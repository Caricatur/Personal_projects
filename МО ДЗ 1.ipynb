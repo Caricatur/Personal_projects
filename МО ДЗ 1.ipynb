{
  "cells": [
    {
      "cell_type": "markdown",
      "metadata": {
        "id": "HcF9My_FhLuk"
      },
    },
    {
      "cell_type": "markdown",
      "metadata": {
        "id": "G64TptyJhLuo"
      },
    },
    {
      "cell_type": "markdown",
      "metadata": {
        "id": "BaXlfHE_hLup"
      },
      "source": [
        "## 0. Введение"
      ]
    },
    {
      "cell_type": "markdown",
      "metadata": {
        "id": "wirAvJNxhLup"
      },
    },
    {
      "cell_type": "code",
      "execution_count": 510,
      "metadata": {
        "id": "aQ2_j3nkhLuq",
        "colab": {
          "base_uri": "https://localhost:8080/"
        },
        "outputId": "befb8ce6-734c-451b-a4cc-caff6829be3d"
      },
      "outputs": [
        {
          "output_type": "execute_result",
          "data": {
            "text/plain": [
              "4"
            ]
          },
          "metadata": {},
          "execution_count": 510
        }
      ],
      "source": [
        "# ячейка с кодом, при выполнении которой появится output\n",
        "2 + 2"
      ]
    },
    {
      "cell_type": "markdown",
      "metadata": {
        "id": "ZlulCwVKhLur"
      },
      "source": [
        "Ячейка с неразмеченным текстом."
      ]
    },
    {
      "cell_type": "markdown",
      "metadata": {
        "id": "A4wkVlIehLur"
      },
    },
    {
      "cell_type": "code",
      "execution_count": 511,
      "metadata": {
        "id": "BIuaYSvqhLus",
        "colab": {
          "base_uri": "https://localhost:8080/"
        },
        "outputId": "6b1646db-aa47-4c31-dfc3-763c760487bf"
      },
      "outputs": [
        {
          "output_type": "stream",
          "name": "stdout",
          "text": [
            "Hello\n"
          ]
        }
      ],
      "source": [
        "# your code\n",
        "print('Hello')"
      ]
    },
    {
      "cell_type": "markdown",
      "metadata": {
        "id": "iWs6ljrIhLus"
      },
      "source": [
        "[Здесь](https://athena.brynmawr.edu/jupyter/hub/dblank/public/Jupyter%20Notebook%20Users%20Manual.ipynb) находится <s>не</s>большая заметка о используемом языке разметки Markdown. Он позволяет:\n",
        "\n",
        "0. Составлять упорядоченные списки\n",
        "1. Выделять *текст* <s>при</s> **необходимости**\n",
        "2. Добавлять [ссылки](http://imgs.xkcd.com/comics/the_universal_label.png)\n",
        "\n",
        "\n",
        "* Составлять неупорядоченные списки\n",
        "\n",
        "Делать вставки с помощью LaTex:\n",
        "    \n",
        "$\n",
        "\\left\\{\n",
        "\\begin{array}{ll}\n",
        "x = 16 \\sin^3 (t) \\\\\n",
        "y = 13 \\cos (t) - 5 \\cos (2t) - 2 \\cos (3t) - \\cos (4t) \\\\\n",
        "t \\in [0, 2 \\pi]\n",
        "\\end{array}\n",
        "\\right.$"
      ]
    },
    {
      "cell_type": "markdown",
      "metadata": {
        "id": "6fmTGcXOhLus"
      },
      "source": [
        "А ещё можно вставлять картинки, или гифки, или что захотите:\n",
        "\n",
        "<img src=\"https://media1.tenor.com/images/9b8fbe9214504bcf6c60fe4e4f7e114e/tenor.gif?itemid=5416416\" style=\"width: 400px\">"
      ]
    },
    {
      "cell_type": "markdown",
      "metadata": {
        "id": "J_toGw7DhLut"
      },
      "source": [
        "### Google Colab"
      ]
    },
    {
      "cell_type": "markdown",
      "metadata": {
        "id": "jpkbCVjGhLut"
      },
      "source": [
        "Что за колаб?\n",
        "\n",
        "**Google Colab (Colaboratory)** это **Jupyter Notebook + Cloud + Google Drive.**\n",
        "\n",
        "Компания Google предоставляет возможность бесплатно запускать ноутбуки (предварительно загрузив их на свой гугл-диск) прямо в облаке. При этом вам не требуется установка никаких пакетов на свою машину, а работать можно прямиком из браузера. Вот ссылка:"
      ]
    },
    {
      "cell_type": "markdown",
      "metadata": {
        "id": "06MQog3yhLut"
      },
      "source": [
        "https://colab.research.google.com"
      ]
    },
    {
      "cell_type": "markdown",
      "metadata": {
        "id": "5_hfWXKPhLut"
      },
      "source": [
        "При использовании вы увидете много сходств с jupyter ноутбуком. Одним из преимуществ является доступность GPU, соответствующую опцию можно активировать в настройках сервиса. При желании вы сможете найти в интернете много туториалов по использованию или разобраться самостоятельно =)"
      ]
    },
    {
      "cell_type": "markdown",
      "metadata": {
        "id": "sUe2vnFGhLuu"
      },
      "source": [
        "## 1. Табличные данные и Pandas"
      ]
    },
    {
      "cell_type": "markdown",
      "metadata": {
        "id": "DJQzjjqJhLuu"
      },
      "source": [
        "Pandas — удобная библиотека для работы с табличными данными в Python, если данных не слишком много и они помещаются в оперативную память вашего компьютера. Несмотря на неэффективность реализации и некоторые проблемы, библиотека стала стандартом в анализе данных.\n",
        "\n",
        "Основной объект в pandas — это DataFrame, представляющий собой таблицу с именованными колонками различных типов, индексом (может быть многоуровневым). DataFrame можно создавать, считывая таблицу из файла или задавая вручную из других объектов.\n",
        "\n",
        "В этой части потребуется выполнить несколько небольших заданий. Можно пойти двумя путями: сначала изучить материалы, а потом приступить к заданиям, или же разбираться \"по ходу\". Выбирайте сами.\n",
        "\n",
        "Материалы:\n",
        "1. [Pandas за 10 минут из официального руководства](http://pandas.pydata.org/pandas-docs/stable/10min.html)\n",
        "2. [Документация](http://pandas.pydata.org/pandas-docs/stable/index.html) (стоит обращаться, если не понятно, как вызывать конкретный метод)\n",
        "3. [Примеры использования функционала](http://nbviewer.jupyter.org/github/justmarkham/pandas-videos/blob/master/pandas.ipynb)\n",
        "\n",
        "Многие из заданий можно выполнить несколькими способами. Не существуют единственно верного, но попробуйте максимально задействовать арсенал pandas и ориентируйтесь на простоту и понятность вашего кода. Мы не будем подсказывать, что нужно использовать для решения конкретной задачи, попробуйте находить необходимый функционал сами (название метода чаще всего очевидно). В помощь вам документация, поиск и stackoverflow."
      ]
    },
    {
      "cell_type": "code",
      "execution_count": 512,
      "metadata": {
        "id": "26zbFY25hLuv",
        "outputId": "2039c5dc-ebf8-47be-efbf-26155d387255",
        "colab": {
          "base_uri": "https://localhost:8080/"
        }
      },
      "outputs": [
        {
          "output_type": "stream",
          "name": "stdout",
          "text": [
            "Populating the interactive namespace from numpy and matplotlib\n"
          ]
        },
        {
          "output_type": "stream",
          "name": "stderr",
          "text": [
            "/usr/local/lib/python3.10/dist-packages/IPython/core/magics/pylab.py:159: UserWarning: pylab import has clobbered these variables: ['size', 'sum']\n",
            "`%matplotlib` prevents importing * from pylab and numpy\n",
            "  warn(\"pylab import has clobbered these variables: %s\"  % clobbered +\n"
          ]
        }
      ],
      "source": [
        "%pylab inline\n",
        "import pandas as pd"
      ]
    },
    {
      "cell_type": "markdown",
      "metadata": {
        "id": "XTNwUbnbGH_T"
      },
      "source": [
        "<span style=\"color:red\">Перед выполнением задания необходимо ознакомиться с первым семинаром (seminars/sem01-pandas.ipynb) </span>.\n",
        "\n",
        "Это поможет вам получить общее понимание происходяшего и успешнее справиться с заданием.\n",
        "\n",
        "Также успешному выполнению способствует внимательное чтение текста задания от начала до конца.\n",
        "\n",
        "Удачи!"
      ]
    },
    {
      "cell_type": "markdown",
      "metadata": {
        "id": "dneJl9TyhLuv"
      },
      "source": [
        "Скачаем подготовленные на семинаре данные:"
      ]
    },
    {
      "cell_type": "code",
      "execution_count": 513,
      "metadata": {
        "id": "rj_I0RslhLuw"
      },
      "outputs": [],
      "source": [
        "!wget  -O 'end_seminar.xlsx' -q 'https://www.dropbox.com/s/f4rm8sjc3v99p0m/_end_seminar.xlsx?dl=0'"
      ]
    },
    {
      "cell_type": "markdown",
      "metadata": {
        "id": "5hp7bn_ThLuw"
      },
      "source": [
        "Для пользователей Windows: скачайте файл самостоятельно и поместите его в папку с тетрадкой. Или попробуйте один из следующих вариантов:"
      ]
    },
    {
      "cell_type": "code",
      "execution_count": 514,
      "metadata": {
        "id": "4h4_BaX8hLuw"
      },
      "outputs": [],
      "source": [
        "# !powershell iwr -outf somefile https://somesite/somefile"
      ]
    },
    {
      "cell_type": "code",
      "execution_count": 515,
      "metadata": {
        "id": "7bHroLGChLuw"
      },
      "outputs": [],
      "source": [
        "# !pip install wget\n",
        "# import wget\n",
        "# wget.download('https://dropbox.com/s/f4rm8sjc3v99p0m/_end_seminar.xlsx?dl=1', 'end_seminar.xlsx')"
      ]
    },
    {
      "cell_type": "markdown",
      "metadata": {
        "id": "VFs_6IythLux"
      },
      "source": [
        "##### В первой части задания (до раздела \"Распределение студентов по курсам\") использование циклов запрещается и повлечет за собой снижение оценки. Использование <code>vectorize</code> и  <code>apply</code>, <code>apply_along_axis</code> крайне нежелательно."
      ]
    },
    {
      "cell_type": "markdown",
      "metadata": {
        "id": "shFkfJkohLux"
      },
      "source": [
        "Для каждой задачи из этого раздела вы должны написать код для получения ответа, а также дать текстовый ответ, если он предполагается.\n",
        "\n",
        "На некоторые вопросы вы можете получить путём пристального взгляда на таблицу, но это не будет засчитываться. Вы в любом случае должны получить ответ с помощью кода."
      ]
    },
    {
      "cell_type": "markdown",
      "metadata": {
        "id": "gDD85M7bhLux"
      },
      "source": [
        "#### 1. [0 баллов] Откройте файл с таблицей (не забудьте про её формат). Выведите последние 10 строк.\n",
        "\n",
        "Посмотрите на данные и скажите, что они из себя представляют, сколько в таблице строк, какие столбцы? (на это не надо отвечать, просто подумайте об этом)"
      ]
    },
    {
      "cell_type": "code",
      "execution_count": 516,
      "metadata": {
        "id": "PKulur3LhLuy",
        "colab": {
          "base_uri": "https://localhost:8080/",
          "height": 747
        },
        "outputId": "ba0bdcbe-4e32-4d56-9aad-c3739579fab9"
      },
      "outputs": [
        {
          "output_type": "execute_result",
          "data": {
            "text/plain": [
              "                  timestamp                                id  rating  \\\n",
              "357 2020-05-19 20:19:25.815  f44aea1095f9f5b8e2f5f0ed2b17891b    1060   \n",
              "217 2020-05-20 11:34:10.787  7a21ef645ecb42198be493dd65320e78     495   \n",
              "218 2020-05-20 11:49:38.801  bd416140ecdb32b6dbd7f40820bf63b1     518   \n",
              "358 2020-05-20 11:54:38.318  d7118b44c7e8fdbbaaca226d2da6fef1    1111   \n",
              "219 2020-05-20 11:57:07.326  e6f5eb76b34e7ab7bac753e6cb0a2279     634   \n",
              "220 2020-05-21 16:33:15.899  1341f488fae5f1ccf164960fd6506cd0     584   \n",
              "360 2020-05-23 21:16:40.916  f2d210ace25a841e1e58036b257d5d47    1195   \n",
              "359 2020-05-23 21:16:40.916  79d14db48e4737af731960ae212d5134     966   \n",
              "221 2020-05-24 01:21:31.946  04bcb5c9d23813ffa940e1febb27fadc     646   \n",
              "222 2020-05-24 01:23:31.946  9d19b0d5f4fc8d7edc2258406f872c4e     695   \n",
              "\n",
              "     18_group  is_mi                                             fall_1  \\\n",
              "357       NaN    NaN                  Анализ неструктурированных данных   \n",
              "217     188.0    NaN  Принятие решений в условиях риска и неопределё...   \n",
              "218     185.0    NaN                   Безопасность компьютерных систем   \n",
              "358       NaN    NaN    Сбор и обработка данных с помощью краудсорсинга   \n",
              "219     184.0    NaN                                  Теория баз данных   \n",
              "220     188.0    NaN                                           Язык SQL   \n",
              "360       NaN    NaN                  Анализ неструктурированных данных   \n",
              "359       NaN    NaN                   Безопасность компьютерных систем   \n",
              "221     186.0    NaN                                  Теория баз данных   \n",
              "222     188.0    NaN                   Безопасность компьютерных систем   \n",
              "\n",
              "                                                fall_2  \\\n",
              "357                  Высокопроизводительные вычисления   \n",
              "217                                           Язык SQL   \n",
              "218                                  Теория баз данных   \n",
              "358                        Statistical Learning Theory   \n",
              "219                   Безопасность компьютерных систем   \n",
              "220                                  Теория баз данных   \n",
              "360                      Моделирование временных рядов   \n",
              "359  Принятие решений в условиях риска и неопределё...   \n",
              "221                  Высокопроизводительные вычисления   \n",
              "222                                           Язык SQL   \n",
              "\n",
              "                                              fall_3  \\\n",
              "357                    Моделирование временных рядов   \n",
              "217  Сбор и обработка данных с помощью краудсорсинга   \n",
              "218                                         Язык SQL   \n",
              "358                Анализ неструктурированных данных   \n",
              "219                    Моделирование временных рядов   \n",
              "220                 Безопасность компьютерных систем   \n",
              "360                Высокопроизводительные вычисления   \n",
              "359                Анализ неструктурированных данных   \n",
              "221                 Безопасность компьютерных систем   \n",
              "222                Высокопроизводительные вычисления   \n",
              "\n",
              "                                              spring_1  \\\n",
              "357                             Конфликты и кооперация   \n",
              "217                            Анализ данных в бизнесе   \n",
              "218                                Машинное обучение 2   \n",
              "358  Проектирование и разработка высоконагруженных ...   \n",
              "219                                  Компьютерные сети   \n",
              "220        Промышленное программирование на языке Java   \n",
              "360                           Обучение с подкреплением   \n",
              "359  Проектирование и разработка высоконагруженных ...   \n",
              "221                                  Компьютерные сети   \n",
              "222                                  Компьютерные сети   \n",
              "\n",
              "                                        spring_2  \\\n",
              "357                     Обучение с подкреплением   \n",
              "217  Промышленное программирование на языке Java   \n",
              "218                            Компьютерные сети   \n",
              "358         Методы сжатия и передачи медиаданных   \n",
              "219  Промышленное программирование на языке Java   \n",
              "220                            Компьютерные сети   \n",
              "360                          Компьютерное зрение   \n",
              "359         Методы сжатия и передачи медиаданных   \n",
              "221                       Дискретная оптимизация   \n",
              "222                       Дискретная оптимизация   \n",
              "\n",
              "                                        spring_3 is_first_time  percentile  \\\n",
              "357                             Численные методы            Да    0.840580   \n",
              "217   Дополнительные главы прикладной статистики            Да    0.995516   \n",
              "218  Промышленное программирование на языке Java            Да    0.977578   \n",
              "358                             Численные методы            Да    0.652174   \n",
              "219                      Анализ данных в бизнесе            Да    0.484305   \n",
              "220                           Системы баз данных            Да    0.721973   \n",
              "360         Методы сжатия и передачи медиаданных           NaN    0.369565   \n",
              "359                          Компьютерное зрение            Да    0.985507   \n",
              "221                          Машинное обучение 2           Нет    0.430493   \n",
              "222                             Численные методы           NaN    0.197309   \n",
              "\n",
              "     17_group                         blended  is_ml_student  \n",
              "357     174.0                          DevOps            NaN  \n",
              "217       NaN                             NaN            NaN  \n",
              "218       NaN                             NaN            NaN  \n",
              "358     173.0  Соревновательный анализ данных            NaN  \n",
              "219       NaN                             NaN            NaN  \n",
              "220       NaN                             NaN            NaN  \n",
              "360     176.0  Соревновательный анализ данных            NaN  \n",
              "359     172.0                          DevOps            NaN  \n",
              "221       NaN                             NaN            NaN  \n",
              "222       NaN                             NaN            NaN  "
            ],
            "text/html": [
              "\n",
              "  <div id=\"df-dbc0206d-39e8-48b4-8d79-19805ce5d11b\" class=\"colab-df-container\">\n",
              "    <div>\n",
              "<style scoped>\n",
              "    .dataframe tbody tr th:only-of-type {\n",
              "        vertical-align: middle;\n",
              "    }\n",
              "\n",
              "    .dataframe tbody tr th {\n",
              "        vertical-align: top;\n",
              "    }\n",
              "\n",
              "    .dataframe thead th {\n",
              "        text-align: right;\n",
              "    }\n",
              "</style>\n",
              "<table border=\"1\" class=\"dataframe\">\n",
              "  <thead>\n",
              "    <tr style=\"text-align: right;\">\n",
              "      <th></th>\n",
              "      <th>timestamp</th>\n",
              "      <th>id</th>\n",
              "      <th>rating</th>\n",
              "      <th>18_group</th>\n",
              "      <th>is_mi</th>\n",
              "      <th>fall_1</th>\n",
              "      <th>fall_2</th>\n",
              "      <th>fall_3</th>\n",
              "      <th>spring_1</th>\n",
              "      <th>spring_2</th>\n",
              "      <th>spring_3</th>\n",
              "      <th>is_first_time</th>\n",
              "      <th>percentile</th>\n",
              "      <th>17_group</th>\n",
              "      <th>blended</th>\n",
              "      <th>is_ml_student</th>\n",
              "    </tr>\n",
              "  </thead>\n",
              "  <tbody>\n",
              "    <tr>\n",
              "      <th>357</th>\n",
              "      <td>2020-05-19 20:19:25.815</td>\n",
              "      <td>f44aea1095f9f5b8e2f5f0ed2b17891b</td>\n",
              "      <td>1060</td>\n",
              "      <td>NaN</td>\n",
              "      <td>NaN</td>\n",
              "      <td>Анализ неструктурированных данных</td>\n",
              "      <td>Высокопроизводительные вычисления</td>\n",
              "      <td>Моделирование временных рядов</td>\n",
              "      <td>Конфликты и кооперация</td>\n",
              "      <td>Обучение с подкреплением</td>\n",
              "      <td>Численные методы</td>\n",
              "      <td>Да</td>\n",
              "      <td>0.840580</td>\n",
              "      <td>174.0</td>\n",
              "      <td>DevOps</td>\n",
              "      <td>NaN</td>\n",
              "    </tr>\n",
              "    <tr>\n",
              "      <th>217</th>\n",
              "      <td>2020-05-20 11:34:10.787</td>\n",
              "      <td>7a21ef645ecb42198be493dd65320e78</td>\n",
              "      <td>495</td>\n",
              "      <td>188.0</td>\n",
              "      <td>NaN</td>\n",
              "      <td>Принятие решений в условиях риска и неопределё...</td>\n",
              "      <td>Язык SQL</td>\n",
              "      <td>Сбор и обработка данных с помощью краудсорсинга</td>\n",
              "      <td>Анализ данных в бизнесе</td>\n",
              "      <td>Промышленное программирование на языке Java</td>\n",
              "      <td>Дополнительные главы прикладной статистики</td>\n",
              "      <td>Да</td>\n",
              "      <td>0.995516</td>\n",
              "      <td>NaN</td>\n",
              "      <td>NaN</td>\n",
              "      <td>NaN</td>\n",
              "    </tr>\n",
              "    <tr>\n",
              "      <th>218</th>\n",
              "      <td>2020-05-20 11:49:38.801</td>\n",
              "      <td>bd416140ecdb32b6dbd7f40820bf63b1</td>\n",
              "      <td>518</td>\n",
              "      <td>185.0</td>\n",
              "      <td>NaN</td>\n",
              "      <td>Безопасность компьютерных систем</td>\n",
              "      <td>Теория баз данных</td>\n",
              "      <td>Язык SQL</td>\n",
              "      <td>Машинное обучение 2</td>\n",
              "      <td>Компьютерные сети</td>\n",
              "      <td>Промышленное программирование на языке Java</td>\n",
              "      <td>Да</td>\n",
              "      <td>0.977578</td>\n",
              "      <td>NaN</td>\n",
              "      <td>NaN</td>\n",
              "      <td>NaN</td>\n",
              "    </tr>\n",
              "    <tr>\n",
              "      <th>358</th>\n",
              "      <td>2020-05-20 11:54:38.318</td>\n",
              "      <td>d7118b44c7e8fdbbaaca226d2da6fef1</td>\n",
              "      <td>1111</td>\n",
              "      <td>NaN</td>\n",
              "      <td>NaN</td>\n",
              "      <td>Сбор и обработка данных с помощью краудсорсинга</td>\n",
              "      <td>Statistical Learning Theory</td>\n",
              "      <td>Анализ неструктурированных данных</td>\n",
              "      <td>Проектирование и разработка высоконагруженных ...</td>\n",
              "      <td>Методы сжатия и передачи медиаданных</td>\n",
              "      <td>Численные методы</td>\n",
              "      <td>Да</td>\n",
              "      <td>0.652174</td>\n",
              "      <td>173.0</td>\n",
              "      <td>Соревновательный анализ данных</td>\n",
              "      <td>NaN</td>\n",
              "    </tr>\n",
              "    <tr>\n",
              "      <th>219</th>\n",
              "      <td>2020-05-20 11:57:07.326</td>\n",
              "      <td>e6f5eb76b34e7ab7bac753e6cb0a2279</td>\n",
              "      <td>634</td>\n",
              "      <td>184.0</td>\n",
              "      <td>NaN</td>\n",
              "      <td>Теория баз данных</td>\n",
              "      <td>Безопасность компьютерных систем</td>\n",
              "      <td>Моделирование временных рядов</td>\n",
              "      <td>Компьютерные сети</td>\n",
              "      <td>Промышленное программирование на языке Java</td>\n",
              "      <td>Анализ данных в бизнесе</td>\n",
              "      <td>Да</td>\n",
              "      <td>0.484305</td>\n",
              "      <td>NaN</td>\n",
              "      <td>NaN</td>\n",
              "      <td>NaN</td>\n",
              "    </tr>\n",
              "    <tr>\n",
              "      <th>220</th>\n",
              "      <td>2020-05-21 16:33:15.899</td>\n",
              "      <td>1341f488fae5f1ccf164960fd6506cd0</td>\n",
              "      <td>584</td>\n",
              "      <td>188.0</td>\n",
              "      <td>NaN</td>\n",
              "      <td>Язык SQL</td>\n",
              "      <td>Теория баз данных</td>\n",
              "      <td>Безопасность компьютерных систем</td>\n",
              "      <td>Промышленное программирование на языке Java</td>\n",
              "      <td>Компьютерные сети</td>\n",
              "      <td>Системы баз данных</td>\n",
              "      <td>Да</td>\n",
              "      <td>0.721973</td>\n",
              "      <td>NaN</td>\n",
              "      <td>NaN</td>\n",
              "      <td>NaN</td>\n",
              "    </tr>\n",
              "    <tr>\n",
              "      <th>360</th>\n",
              "      <td>2020-05-23 21:16:40.916</td>\n",
              "      <td>f2d210ace25a841e1e58036b257d5d47</td>\n",
              "      <td>1195</td>\n",
              "      <td>NaN</td>\n",
              "      <td>NaN</td>\n",
              "      <td>Анализ неструктурированных данных</td>\n",
              "      <td>Моделирование временных рядов</td>\n",
              "      <td>Высокопроизводительные вычисления</td>\n",
              "      <td>Обучение с подкреплением</td>\n",
              "      <td>Компьютерное зрение</td>\n",
              "      <td>Методы сжатия и передачи медиаданных</td>\n",
              "      <td>NaN</td>\n",
              "      <td>0.369565</td>\n",
              "      <td>176.0</td>\n",
              "      <td>Соревновательный анализ данных</td>\n",
              "      <td>NaN</td>\n",
              "    </tr>\n",
              "    <tr>\n",
              "      <th>359</th>\n",
              "      <td>2020-05-23 21:16:40.916</td>\n",
              "      <td>79d14db48e4737af731960ae212d5134</td>\n",
              "      <td>966</td>\n",
              "      <td>NaN</td>\n",
              "      <td>NaN</td>\n",
              "      <td>Безопасность компьютерных систем</td>\n",
              "      <td>Принятие решений в условиях риска и неопределё...</td>\n",
              "      <td>Анализ неструктурированных данных</td>\n",
              "      <td>Проектирование и разработка высоконагруженных ...</td>\n",
              "      <td>Методы сжатия и передачи медиаданных</td>\n",
              "      <td>Компьютерное зрение</td>\n",
              "      <td>Да</td>\n",
              "      <td>0.985507</td>\n",
              "      <td>172.0</td>\n",
              "      <td>DevOps</td>\n",
              "      <td>NaN</td>\n",
              "    </tr>\n",
              "    <tr>\n",
              "      <th>221</th>\n",
              "      <td>2020-05-24 01:21:31.946</td>\n",
              "      <td>04bcb5c9d23813ffa940e1febb27fadc</td>\n",
              "      <td>646</td>\n",
              "      <td>186.0</td>\n",
              "      <td>NaN</td>\n",
              "      <td>Теория баз данных</td>\n",
              "      <td>Высокопроизводительные вычисления</td>\n",
              "      <td>Безопасность компьютерных систем</td>\n",
              "      <td>Компьютерные сети</td>\n",
              "      <td>Дискретная оптимизация</td>\n",
              "      <td>Машинное обучение 2</td>\n",
              "      <td>Нет</td>\n",
              "      <td>0.430493</td>\n",
              "      <td>NaN</td>\n",
              "      <td>NaN</td>\n",
              "      <td>NaN</td>\n",
              "    </tr>\n",
              "    <tr>\n",
              "      <th>222</th>\n",
              "      <td>2020-05-24 01:23:31.946</td>\n",
              "      <td>9d19b0d5f4fc8d7edc2258406f872c4e</td>\n",
              "      <td>695</td>\n",
              "      <td>188.0</td>\n",
              "      <td>NaN</td>\n",
              "      <td>Безопасность компьютерных систем</td>\n",
              "      <td>Язык SQL</td>\n",
              "      <td>Высокопроизводительные вычисления</td>\n",
              "      <td>Компьютерные сети</td>\n",
              "      <td>Дискретная оптимизация</td>\n",
              "      <td>Численные методы</td>\n",
              "      <td>NaN</td>\n",
              "      <td>0.197309</td>\n",
              "      <td>NaN</td>\n",
              "      <td>NaN</td>\n",
              "      <td>NaN</td>\n",
              "    </tr>\n",
              "  </tbody>\n",
              "</table>\n",
              "</div>\n",
              "    <div class=\"colab-df-buttons\">\n",
              "\n",
              "  <div class=\"colab-df-container\">\n",
              "    <button class=\"colab-df-convert\" onclick=\"convertToInteractive('df-dbc0206d-39e8-48b4-8d79-19805ce5d11b')\"\n",
              "            title=\"Convert this dataframe to an interactive table.\"\n",
              "            style=\"display:none;\">\n",
              "\n",
              "  <svg xmlns=\"http://www.w3.org/2000/svg\" height=\"24px\" viewBox=\"0 -960 960 960\">\n",
              "    <path d=\"M120-120v-720h720v720H120Zm60-500h600v-160H180v160Zm220 220h160v-160H400v160Zm0 220h160v-160H400v160ZM180-400h160v-160H180v160Zm440 0h160v-160H620v160ZM180-180h160v-160H180v160Zm440 0h160v-160H620v160Z\"/>\n",
              "  </svg>\n",
              "    </button>\n",
              "\n",
              "  <style>\n",
              "    .colab-df-container {\n",
              "      display:flex;\n",
              "      gap: 12px;\n",
              "    }\n",
              "\n",
              "    .colab-df-convert {\n",
              "      background-color: #E8F0FE;\n",
              "      border: none;\n",
              "      border-radius: 50%;\n",
              "      cursor: pointer;\n",
              "      display: none;\n",
              "      fill: #1967D2;\n",
              "      height: 32px;\n",
              "      padding: 0 0 0 0;\n",
              "      width: 32px;\n",
              "    }\n",
              "\n",
              "    .colab-df-convert:hover {\n",
              "      background-color: #E2EBFA;\n",
              "      box-shadow: 0px 1px 2px rgba(60, 64, 67, 0.3), 0px 1px 3px 1px rgba(60, 64, 67, 0.15);\n",
              "      fill: #174EA6;\n",
              "    }\n",
              "\n",
              "    .colab-df-buttons div {\n",
              "      margin-bottom: 4px;\n",
              "    }\n",
              "\n",
              "    [theme=dark] .colab-df-convert {\n",
              "      background-color: #3B4455;\n",
              "      fill: #D2E3FC;\n",
              "    }\n",
              "\n",
              "    [theme=dark] .colab-df-convert:hover {\n",
              "      background-color: #434B5C;\n",
              "      box-shadow: 0px 1px 3px 1px rgba(0, 0, 0, 0.15);\n",
              "      filter: drop-shadow(0px 1px 2px rgba(0, 0, 0, 0.3));\n",
              "      fill: #FFFFFF;\n",
              "    }\n",
              "  </style>\n",
              "\n",
              "    <script>\n",
              "      const buttonEl =\n",
              "        document.querySelector('#df-dbc0206d-39e8-48b4-8d79-19805ce5d11b button.colab-df-convert');\n",
              "      buttonEl.style.display =\n",
              "        google.colab.kernel.accessAllowed ? 'block' : 'none';\n",
              "\n",
              "      async function convertToInteractive(key) {\n",
              "        const element = document.querySelector('#df-dbc0206d-39e8-48b4-8d79-19805ce5d11b');\n",
              "        const dataTable =\n",
              "          await google.colab.kernel.invokeFunction('convertToInteractive',\n",
              "                                                    [key], {});\n",
              "        if (!dataTable) return;\n",
              "\n",
              "        const docLinkHtml = 'Like what you see? Visit the ' +\n",
              "          '<a target=\"_blank\" href=https://colab.research.google.com/notebooks/data_table.ipynb>data table notebook</a>'\n",
              "          + ' to learn more about interactive tables.';\n",
              "        element.innerHTML = '';\n",
              "        dataTable['output_type'] = 'display_data';\n",
              "        await google.colab.output.renderOutput(dataTable, element);\n",
              "        const docLink = document.createElement('div');\n",
              "        docLink.innerHTML = docLinkHtml;\n",
              "        element.appendChild(docLink);\n",
              "      }\n",
              "    </script>\n",
              "  </div>\n",
              "\n",
              "\n",
              "<div id=\"df-7c8a6563-9252-4c47-a99a-51874d825a3b\">\n",
              "  <button class=\"colab-df-quickchart\" onclick=\"quickchart('df-7c8a6563-9252-4c47-a99a-51874d825a3b')\"\n",
              "            title=\"Suggest charts.\"\n",
              "            style=\"display:none;\">\n",
              "\n",
              "<svg xmlns=\"http://www.w3.org/2000/svg\" height=\"24px\"viewBox=\"0 0 24 24\"\n",
              "     width=\"24px\">\n",
              "    <g>\n",
              "        <path d=\"M19 3H5c-1.1 0-2 .9-2 2v14c0 1.1.9 2 2 2h14c1.1 0 2-.9 2-2V5c0-1.1-.9-2-2-2zM9 17H7v-7h2v7zm4 0h-2V7h2v10zm4 0h-2v-4h2v4z\"/>\n",
              "    </g>\n",
              "</svg>\n",
              "  </button>\n",
              "\n",
              "<style>\n",
              "  .colab-df-quickchart {\n",
              "      --bg-color: #E8F0FE;\n",
              "      --fill-color: #1967D2;\n",
              "      --hover-bg-color: #E2EBFA;\n",
              "      --hover-fill-color: #174EA6;\n",
              "      --disabled-fill-color: #AAA;\n",
              "      --disabled-bg-color: #DDD;\n",
              "  }\n",
              "\n",
              "  [theme=dark] .colab-df-quickchart {\n",
              "      --bg-color: #3B4455;\n",
              "      --fill-color: #D2E3FC;\n",
              "      --hover-bg-color: #434B5C;\n",
              "      --hover-fill-color: #FFFFFF;\n",
              "      --disabled-bg-color: #3B4455;\n",
              "      --disabled-fill-color: #666;\n",
              "  }\n",
              "\n",
              "  .colab-df-quickchart {\n",
              "    background-color: var(--bg-color);\n",
              "    border: none;\n",
              "    border-radius: 50%;\n",
              "    cursor: pointer;\n",
              "    display: none;\n",
              "    fill: var(--fill-color);\n",
              "    height: 32px;\n",
              "    padding: 0;\n",
              "    width: 32px;\n",
              "  }\n",
              "\n",
              "  .colab-df-quickchart:hover {\n",
              "    background-color: var(--hover-bg-color);\n",
              "    box-shadow: 0 1px 2px rgba(60, 64, 67, 0.3), 0 1px 3px 1px rgba(60, 64, 67, 0.15);\n",
              "    fill: var(--button-hover-fill-color);\n",
              "  }\n",
              "\n",
              "  .colab-df-quickchart-complete:disabled,\n",
              "  .colab-df-quickchart-complete:disabled:hover {\n",
              "    background-color: var(--disabled-bg-color);\n",
              "    fill: var(--disabled-fill-color);\n",
              "    box-shadow: none;\n",
              "  }\n",
              "\n",
              "  .colab-df-spinner {\n",
              "    border: 2px solid var(--fill-color);\n",
              "    border-color: transparent;\n",
              "    border-bottom-color: var(--fill-color);\n",
              "    animation:\n",
              "      spin 1s steps(1) infinite;\n",
              "  }\n",
              "\n",
              "  @keyframes spin {\n",
              "    0% {\n",
              "      border-color: transparent;\n",
              "      border-bottom-color: var(--fill-color);\n",
              "      border-left-color: var(--fill-color);\n",
              "    }\n",
              "    20% {\n",
              "      border-color: transparent;\n",
              "      border-left-color: var(--fill-color);\n",
              "      border-top-color: var(--fill-color);\n",
              "    }\n",
              "    30% {\n",
              "      border-color: transparent;\n",
              "      border-left-color: var(--fill-color);\n",
              "      border-top-color: var(--fill-color);\n",
              "      border-right-color: var(--fill-color);\n",
              "    }\n",
              "    40% {\n",
              "      border-color: transparent;\n",
              "      border-right-color: var(--fill-color);\n",
              "      border-top-color: var(--fill-color);\n",
              "    }\n",
              "    60% {\n",
              "      border-color: transparent;\n",
              "      border-right-color: var(--fill-color);\n",
              "    }\n",
              "    80% {\n",
              "      border-color: transparent;\n",
              "      border-right-color: var(--fill-color);\n",
              "      border-bottom-color: var(--fill-color);\n",
              "    }\n",
              "    90% {\n",
              "      border-color: transparent;\n",
              "      border-bottom-color: var(--fill-color);\n",
              "    }\n",
              "  }\n",
              "</style>\n",
              "\n",
              "  <script>\n",
              "    async function quickchart(key) {\n",
              "      const quickchartButtonEl =\n",
              "        document.querySelector('#' + key + ' button');\n",
              "      quickchartButtonEl.disabled = true;  // To prevent multiple clicks.\n",
              "      quickchartButtonEl.classList.add('colab-df-spinner');\n",
              "      try {\n",
              "        const charts = await google.colab.kernel.invokeFunction(\n",
              "            'suggestCharts', [key], {});\n",
              "      } catch (error) {\n",
              "        console.error('Error during call to suggestCharts:', error);\n",
              "      }\n",
              "      quickchartButtonEl.classList.remove('colab-df-spinner');\n",
              "      quickchartButtonEl.classList.add('colab-df-quickchart-complete');\n",
              "    }\n",
              "    (() => {\n",
              "      let quickchartButtonEl =\n",
              "        document.querySelector('#df-7c8a6563-9252-4c47-a99a-51874d825a3b button');\n",
              "      quickchartButtonEl.style.display =\n",
              "        google.colab.kernel.accessAllowed ? 'block' : 'none';\n",
              "    })();\n",
              "  </script>\n",
              "</div>\n",
              "    </div>\n",
              "  </div>\n"
            ]
          },
          "metadata": {},
          "execution_count": 516
        }
      ],
      "source": [
        "data = pd.read_excel('end_seminar.xlsx')\n",
        "\n",
        "data = data.sort_values(by=['timestamp'])\n",
        "data.tail(10)"
      ]
    },
    {
      "cell_type": "markdown",
      "metadata": {
        "id": "jPiMwyqHhLuy"
      },
      "source": [
        "#### 2. [0.5 балла] Есть ли в данных пропуски? В каких колонках? Сколько их в каждой из этих колонок?"
      ]
    },
    {
      "cell_type": "code",
      "execution_count": 517,
      "metadata": {
        "id": "edY1RrSOhLuy",
        "colab": {
          "base_uri": "https://localhost:8080/"
        },
        "outputId": "4b36feb2-b826-400c-bf0f-17bf76c78dce"
      },
      "outputs": [
        {
          "output_type": "execute_result",
          "data": {
            "text/plain": [
              "timestamp          0\n",
              "id                 0\n",
              "rating             0\n",
              "18_group         138\n",
              "is_mi            343\n",
              "fall_1             0\n",
              "fall_2             0\n",
              "fall_3             0\n",
              "spring_1           0\n",
              "spring_2           0\n",
              "spring_3           0\n",
              "is_first_time      2\n",
              "percentile         0\n",
              "17_group         223\n",
              "blended          223\n",
              "is_ml_student    304\n",
              "dtype: int64"
            ]
          },
          "metadata": {},
          "execution_count": 517
        }
      ],
      "source": [
        "data.isna().sum()"
      ]
    },
    {
      "cell_type": "markdown",
      "source": [
        "Видно, что тут содержательных пропусков нет — есть только проблемы с колонками, специфичными для одного из курсов."
      ],
      "metadata": {
        "id": "pAmhCEQ3L5HL"
      }
    },
    {
      "cell_type": "markdown",
      "metadata": {
        "id": "B5ORhP2uhLuz"
      },
      "source": [
        "Заполните пропуски пустой строкой для строковых колонок и нулём для числовых (постарайтесь избежать перечисления названий всех столбцов)."
      ]
    },
    {
      "cell_type": "code",
      "source": [
        "data.dtypes"
      ],
      "metadata": {
        "colab": {
          "base_uri": "https://localhost:8080/"
        },
        "id": "QpDVujEZOdMY",
        "outputId": "c6f81472-e183-4ce4-c057-1b1ceec17192"
      },
      "execution_count": 518,
      "outputs": [
        {
          "output_type": "execute_result",
          "data": {
            "text/plain": [
              "timestamp        datetime64[ns]\n",
              "id                       object\n",
              "rating                    int64\n",
              "18_group                float64\n",
              "is_mi                   float64\n",
              "fall_1                   object\n",
              "fall_2                   object\n",
              "fall_3                   object\n",
              "spring_1                 object\n",
              "spring_2                 object\n",
              "spring_3                 object\n",
              "is_first_time            object\n",
              "percentile              float64\n",
              "17_group                float64\n",
              "blended                  object\n",
              "is_ml_student           float64\n",
              "dtype: object"
            ]
          },
          "metadata": {},
          "execution_count": 518
        }
      ]
    },
    {
      "cell_type": "code",
      "execution_count": 519,
      "metadata": {
        "id": "TlF_JJ2ghLuz"
      },
      "outputs": [],
      "source": [
        "data[['18_group', '17_group', 'is_ml_student']] = data[['18_group', '17_group', 'is_ml_student']].fillna(0)\n",
        "data[['is_mi', 'is_first_time', 'blended']] = data[['is_mi', 'is_first_time', 'blended']].fillna('')"
      ]
    },
    {
      "cell_type": "markdown",
      "metadata": {
        "id": "w5ELhkT1hLuz"
      },
      "source": [
        "#### 3. [0.5 балла] Посмотрите повнимательнее на колонку 'is_first_time'.\n",
        "\n",
        "Есть ли в ней ответы \"Нет\"? Сколько их?\n",
        "\n",
        "Если вы найдете повторные обращения студентов, оставьте только самую позднюю версию. В дальнейших заданиях используйте версию данных без повторов.\n",
        "\n",
        "<i>Обращения со значением \"Нет\" в 'is_first_time' могут быть как повторными, так и первичными, поскольку поле заполняли сами студенты.</i>"
      ]
    },
    {
      "cell_type": "code",
      "execution_count": 520,
      "metadata": {
        "id": "VEfiNsyQhLuz",
        "colab": {
          "base_uri": "https://localhost:8080/"
        },
        "outputId": "12049332-a47c-4bd7-ad63-a61e0233272c"
      },
      "outputs": [
        {
          "output_type": "execute_result",
          "data": {
            "text/plain": [
              "51"
            ]
          },
          "metadata": {},
          "execution_count": 520
        }
      ],
      "source": [
        "(data['is_first_time'] == 'Нет').sum()"
      ]
    },
    {
      "cell_type": "code",
      "source": [
        "# idx = data[data['is_first_time'] == 'Нет'].index\n",
        "# data.loc[idx]"
      ],
      "metadata": {
        "id": "qFOLVvQwPYag"
      },
      "execution_count": 521,
      "outputs": []
    },
    {
      "cell_type": "markdown",
      "source": [
        "Проверим действительно ли повторы являются повторами И удалим при необходимости:"
      ],
      "metadata": {
        "id": "zjLVqn31PPwQ"
      }
    },
    {
      "cell_type": "code",
      "source": [
        "data = data.drop_duplicates(subset=['id'], keep='last')"
      ],
      "metadata": {
        "id": "1Za93sXWSCv8"
      },
      "execution_count": 522,
      "outputs": []
    },
    {
      "cell_type": "markdown",
      "metadata": {
        "id": "Jhk3tVpVhLuy"
      },
      "source": [
        "#### 4. [0.5 балла] Ответьте на вопросы:\n",
        "1. Сколько было заявок из групп 18-го года набора, а сколько из групп 17-го года?\n",
        "2. Есть ли студенты с равными перцентилями (среди объединенных данных, ведь конкурс на каждый курс общий)?"
      ]
    },
    {
      "cell_type": "markdown",
      "source": [
        "Первый пункт:"
      ],
      "metadata": {
        "id": "TpYuENtHV8NA"
      }
    },
    {
      "cell_type": "code",
      "execution_count": 523,
      "metadata": {
        "id": "bsn4vn8RhLuy",
        "colab": {
          "base_uri": "https://localhost:8080/"
        },
        "outputId": "6dfa12dc-f79c-4949-ff17-d4afa8578483"
      },
      "outputs": [
        {
          "output_type": "stream",
          "name": "stdout",
          "text": [
            "18 год набора:\n",
            "213\n",
            "17 год набора:\n"
          ]
        },
        {
          "output_type": "execute_result",
          "data": {
            "text/plain": [
              "134"
            ]
          },
          "metadata": {},
          "execution_count": 523
        }
      ],
      "source": [
        "print('18 год набора:')\n",
        "print(len(data) - (data['18_group'] == 0).sum())\n",
        "print('17 год набора:')\n",
        "len(data) - (data['17_group'] == 0).sum()"
      ]
    },
    {
      "cell_type": "markdown",
      "source": [
        "Проверим есть ли студенты с равными перцентилями и если да, сколько их:"
      ],
      "metadata": {
        "id": "FOFhKDTdYMjS"
      }
    },
    {
      "cell_type": "code",
      "source": [
        "ans = len(data) - len(data['percentile'].drop_duplicates())\n",
        "if ans > 0:\n",
        "  print(ans)\n",
        "else:\n",
        "  print('Нет таких студентов')"
      ],
      "metadata": {
        "colab": {
          "base_uri": "https://localhost:8080/"
        },
        "id": "8dlmIX66YS6u",
        "outputId": "68ec7d06-aa46-4028-87f1-8919e2ad3e16"
      },
      "execution_count": 524,
      "outputs": [
        {
          "output_type": "stream",
          "name": "stdout",
          "text": [
            "1\n"
          ]
        }
      ]
    },
    {
      "cell_type": "markdown",
      "metadata": {
        "id": "IlzHp3HVhLuz"
      },
      "source": [
        "#### 5. [0.5 балла] Какие  blended-курсы для четверокурсников существуют? На какой blended-курс записалось наибольшее количество студентов? На каком из blended-курсов собрались студенты с самым высоким средним рейтингом (выведите этот курс и количество студентов на нем)?"
      ]
    },
    {
      "cell_type": "code",
      "execution_count": 525,
      "metadata": {
        "id": "j_BRWerHhLu0",
        "colab": {
          "base_uri": "https://localhost:8080/"
        },
        "outputId": "d9fa592a-e933-48b1-e204-25d55fb02932"
      },
      "outputs": [
        {
          "output_type": "execute_result",
          "data": {
            "text/plain": [
              "DevOps                                   87\n",
              "Соревновательный анализ данных           32\n",
              "Введение в дифференциальную геометрию    15\n",
              "Name: blended, dtype: int64"
            ]
          },
          "metadata": {},
          "execution_count": 525
        }
      ],
      "source": [
        "data['blended'].value_counts()[1:]"
      ]
    },
    {
      "cell_type": "markdown",
      "source": [
        "Видим, что всего 3 курса и самый популярный из них DevOps"
      ],
      "metadata": {
        "id": "cudr2RR3aj8n"
      }
    },
    {
      "cell_type": "code",
      "source": [
        "data.groupby('blended').agg({'rating': 'mean'}).reset_index()[1:]"
      ],
      "metadata": {
        "colab": {
          "base_uri": "https://localhost:8080/",
          "height": 143
        },
        "id": "hgO4JQY_a9xQ",
        "outputId": "8db07731-1f22-4288-a8b0-c5c8afe406de"
      },
      "execution_count": 526,
      "outputs": [
        {
          "output_type": "execute_result",
          "data": {
            "text/plain": [
              "                                 blended       rating\n",
              "1                                 DevOps  1154.172414\n",
              "2  Введение в дифференциальную геометрию  1210.733333\n",
              "3         Соревновательный анализ данных  1144.218750"
            ],
            "text/html": [
              "\n",
              "  <div id=\"df-ed57c4e0-3e33-4697-89a6-f01bf3d019c1\" class=\"colab-df-container\">\n",
              "    <div>\n",
              "<style scoped>\n",
              "    .dataframe tbody tr th:only-of-type {\n",
              "        vertical-align: middle;\n",
              "    }\n",
              "\n",
              "    .dataframe tbody tr th {\n",
              "        vertical-align: top;\n",
              "    }\n",
              "\n",
              "    .dataframe thead th {\n",
              "        text-align: right;\n",
              "    }\n",
              "</style>\n",
              "<table border=\"1\" class=\"dataframe\">\n",
              "  <thead>\n",
              "    <tr style=\"text-align: right;\">\n",
              "      <th></th>\n",
              "      <th>blended</th>\n",
              "      <th>rating</th>\n",
              "    </tr>\n",
              "  </thead>\n",
              "  <tbody>\n",
              "    <tr>\n",
              "      <th>1</th>\n",
              "      <td>DevOps</td>\n",
              "      <td>1154.172414</td>\n",
              "    </tr>\n",
              "    <tr>\n",
              "      <th>2</th>\n",
              "      <td>Введение в дифференциальную геометрию</td>\n",
              "      <td>1210.733333</td>\n",
              "    </tr>\n",
              "    <tr>\n",
              "      <th>3</th>\n",
              "      <td>Соревновательный анализ данных</td>\n",
              "      <td>1144.218750</td>\n",
              "    </tr>\n",
              "  </tbody>\n",
              "</table>\n",
              "</div>\n",
              "    <div class=\"colab-df-buttons\">\n",
              "\n",
              "  <div class=\"colab-df-container\">\n",
              "    <button class=\"colab-df-convert\" onclick=\"convertToInteractive('df-ed57c4e0-3e33-4697-89a6-f01bf3d019c1')\"\n",
              "            title=\"Convert this dataframe to an interactive table.\"\n",
              "            style=\"display:none;\">\n",
              "\n",
              "  <svg xmlns=\"http://www.w3.org/2000/svg\" height=\"24px\" viewBox=\"0 -960 960 960\">\n",
              "    <path d=\"M120-120v-720h720v720H120Zm60-500h600v-160H180v160Zm220 220h160v-160H400v160Zm0 220h160v-160H400v160ZM180-400h160v-160H180v160Zm440 0h160v-160H620v160ZM180-180h160v-160H180v160Zm440 0h160v-160H620v160Z\"/>\n",
              "  </svg>\n",
              "    </button>\n",
              "\n",
              "  <style>\n",
              "    .colab-df-container {\n",
              "      display:flex;\n",
              "      gap: 12px;\n",
              "    }\n",
              "\n",
              "    .colab-df-convert {\n",
              "      background-color: #E8F0FE;\n",
              "      border: none;\n",
              "      border-radius: 50%;\n",
              "      cursor: pointer;\n",
              "      display: none;\n",
              "      fill: #1967D2;\n",
              "      height: 32px;\n",
              "      padding: 0 0 0 0;\n",
              "      width: 32px;\n",
              "    }\n",
              "\n",
              "    .colab-df-convert:hover {\n",
              "      background-color: #E2EBFA;\n",
              "      box-shadow: 0px 1px 2px rgba(60, 64, 67, 0.3), 0px 1px 3px 1px rgba(60, 64, 67, 0.15);\n",
              "      fill: #174EA6;\n",
              "    }\n",
              "\n",
              "    .colab-df-buttons div {\n",
              "      margin-bottom: 4px;\n",
              "    }\n",
              "\n",
              "    [theme=dark] .colab-df-convert {\n",
              "      background-color: #3B4455;\n",
              "      fill: #D2E3FC;\n",
              "    }\n",
              "\n",
              "    [theme=dark] .colab-df-convert:hover {\n",
              "      background-color: #434B5C;\n",
              "      box-shadow: 0px 1px 3px 1px rgba(0, 0, 0, 0.15);\n",
              "      filter: drop-shadow(0px 1px 2px rgba(0, 0, 0, 0.3));\n",
              "      fill: #FFFFFF;\n",
              "    }\n",
              "  </style>\n",
              "\n",
              "    <script>\n",
              "      const buttonEl =\n",
              "        document.querySelector('#df-ed57c4e0-3e33-4697-89a6-f01bf3d019c1 button.colab-df-convert');\n",
              "      buttonEl.style.display =\n",
              "        google.colab.kernel.accessAllowed ? 'block' : 'none';\n",
              "\n",
              "      async function convertToInteractive(key) {\n",
              "        const element = document.querySelector('#df-ed57c4e0-3e33-4697-89a6-f01bf3d019c1');\n",
              "        const dataTable =\n",
              "          await google.colab.kernel.invokeFunction('convertToInteractive',\n",
              "                                                    [key], {});\n",
              "        if (!dataTable) return;\n",
              "\n",
              "        const docLinkHtml = 'Like what you see? Visit the ' +\n",
              "          '<a target=\"_blank\" href=https://colab.research.google.com/notebooks/data_table.ipynb>data table notebook</a>'\n",
              "          + ' to learn more about interactive tables.';\n",
              "        element.innerHTML = '';\n",
              "        dataTable['output_type'] = 'display_data';\n",
              "        await google.colab.output.renderOutput(dataTable, element);\n",
              "        const docLink = document.createElement('div');\n",
              "        docLink.innerHTML = docLinkHtml;\n",
              "        element.appendChild(docLink);\n",
              "      }\n",
              "    </script>\n",
              "  </div>\n",
              "\n",
              "\n",
              "<div id=\"df-b65e469e-3814-4c6f-b50f-9413da2bf649\">\n",
              "  <button class=\"colab-df-quickchart\" onclick=\"quickchart('df-b65e469e-3814-4c6f-b50f-9413da2bf649')\"\n",
              "            title=\"Suggest charts.\"\n",
              "            style=\"display:none;\">\n",
              "\n",
              "<svg xmlns=\"http://www.w3.org/2000/svg\" height=\"24px\"viewBox=\"0 0 24 24\"\n",
              "     width=\"24px\">\n",
              "    <g>\n",
              "        <path d=\"M19 3H5c-1.1 0-2 .9-2 2v14c0 1.1.9 2 2 2h14c1.1 0 2-.9 2-2V5c0-1.1-.9-2-2-2zM9 17H7v-7h2v7zm4 0h-2V7h2v10zm4 0h-2v-4h2v4z\"/>\n",
              "    </g>\n",
              "</svg>\n",
              "  </button>\n",
              "\n",
              "<style>\n",
              "  .colab-df-quickchart {\n",
              "      --bg-color: #E8F0FE;\n",
              "      --fill-color: #1967D2;\n",
              "      --hover-bg-color: #E2EBFA;\n",
              "      --hover-fill-color: #174EA6;\n",
              "      --disabled-fill-color: #AAA;\n",
              "      --disabled-bg-color: #DDD;\n",
              "  }\n",
              "\n",
              "  [theme=dark] .colab-df-quickchart {\n",
              "      --bg-color: #3B4455;\n",
              "      --fill-color: #D2E3FC;\n",
              "      --hover-bg-color: #434B5C;\n",
              "      --hover-fill-color: #FFFFFF;\n",
              "      --disabled-bg-color: #3B4455;\n",
              "      --disabled-fill-color: #666;\n",
              "  }\n",
              "\n",
              "  .colab-df-quickchart {\n",
              "    background-color: var(--bg-color);\n",
              "    border: none;\n",
              "    border-radius: 50%;\n",
              "    cursor: pointer;\n",
              "    display: none;\n",
              "    fill: var(--fill-color);\n",
              "    height: 32px;\n",
              "    padding: 0;\n",
              "    width: 32px;\n",
              "  }\n",
              "\n",
              "  .colab-df-quickchart:hover {\n",
              "    background-color: var(--hover-bg-color);\n",
              "    box-shadow: 0 1px 2px rgba(60, 64, 67, 0.3), 0 1px 3px 1px rgba(60, 64, 67, 0.15);\n",
              "    fill: var(--button-hover-fill-color);\n",
              "  }\n",
              "\n",
              "  .colab-df-quickchart-complete:disabled,\n",
              "  .colab-df-quickchart-complete:disabled:hover {\n",
              "    background-color: var(--disabled-bg-color);\n",
              "    fill: var(--disabled-fill-color);\n",
              "    box-shadow: none;\n",
              "  }\n",
              "\n",
              "  .colab-df-spinner {\n",
              "    border: 2px solid var(--fill-color);\n",
              "    border-color: transparent;\n",
              "    border-bottom-color: var(--fill-color);\n",
              "    animation:\n",
              "      spin 1s steps(1) infinite;\n",
              "  }\n",
              "\n",
              "  @keyframes spin {\n",
              "    0% {\n",
              "      border-color: transparent;\n",
              "      border-bottom-color: var(--fill-color);\n",
              "      border-left-color: var(--fill-color);\n",
              "    }\n",
              "    20% {\n",
              "      border-color: transparent;\n",
              "      border-left-color: var(--fill-color);\n",
              "      border-top-color: var(--fill-color);\n",
              "    }\n",
              "    30% {\n",
              "      border-color: transparent;\n",
              "      border-left-color: var(--fill-color);\n",
              "      border-top-color: var(--fill-color);\n",
              "      border-right-color: var(--fill-color);\n",
              "    }\n",
              "    40% {\n",
              "      border-color: transparent;\n",
              "      border-right-color: var(--fill-color);\n",
              "      border-top-color: var(--fill-color);\n",
              "    }\n",
              "    60% {\n",
              "      border-color: transparent;\n",
              "      border-right-color: var(--fill-color);\n",
              "    }\n",
              "    80% {\n",
              "      border-color: transparent;\n",
              "      border-right-color: var(--fill-color);\n",
              "      border-bottom-color: var(--fill-color);\n",
              "    }\n",
              "    90% {\n",
              "      border-color: transparent;\n",
              "      border-bottom-color: var(--fill-color);\n",
              "    }\n",
              "  }\n",
              "</style>\n",
              "\n",
              "  <script>\n",
              "    async function quickchart(key) {\n",
              "      const quickchartButtonEl =\n",
              "        document.querySelector('#' + key + ' button');\n",
              "      quickchartButtonEl.disabled = true;  // To prevent multiple clicks.\n",
              "      quickchartButtonEl.classList.add('colab-df-spinner');\n",
              "      try {\n",
              "        const charts = await google.colab.kernel.invokeFunction(\n",
              "            'suggestCharts', [key], {});\n",
              "      } catch (error) {\n",
              "        console.error('Error during call to suggestCharts:', error);\n",
              "      }\n",
              "      quickchartButtonEl.classList.remove('colab-df-spinner');\n",
              "      quickchartButtonEl.classList.add('colab-df-quickchart-complete');\n",
              "    }\n",
              "    (() => {\n",
              "      let quickchartButtonEl =\n",
              "        document.querySelector('#df-b65e469e-3814-4c6f-b50f-9413da2bf649 button');\n",
              "      quickchartButtonEl.style.display =\n",
              "        google.colab.kernel.accessAllowed ? 'block' : 'none';\n",
              "    })();\n",
              "  </script>\n",
              "</div>\n",
              "    </div>\n",
              "  </div>\n"
            ]
          },
          "metadata": {},
          "execution_count": 526
        }
      ]
    },
    {
      "cell_type": "markdown",
      "source": [
        "Видим, что студенты с наибольшим средним рейтингом выбрали \"Введение в  дифференциальную геометрию\", а выше показано количество студентов на этом курсе - 32"
      ],
      "metadata": {
        "id": "3unsit5_dX1K"
      }
    },
    {
      "cell_type": "markdown",
      "metadata": {
        "id": "IU_FLt8HhLu0"
      },
      "source": [
        "#### 6. [1 балл] Выясните, есть ли студенты с абсолютно одинаковыми предпочтениями по всем курсам.\n",
        "\n",
        "Для этого сформируйте таблицу, где для каждого возможного набора курсов посчитано количество студентов, выбравших такой набор, и оставьте только строки где это количество больше 1.\n",
        "\n",
        "В данном случае набор курсов задается упорядоченным множеством ('fall_1', 'fall_2', 'fall_3', 'spring_1', 'spring_2', 'spring_3', 'blended'). Элемент blended будет нулевым для 3-го курса."
      ]
    },
    {
      "cell_type": "markdown",
      "source": [
        "Я поняла это задание так, что мы считаем студентов с одинаковыми предпочтениями среди 2х лет одновременно, то есть есть ли четверокурсник не выбрал blended курс, его выбор может совпасть с выбором третьекурсника и это будет отображено в этой таблице. Если предполагалось сделать две отдельные таблицы для каждого курса, то просто стоит разделить values в Pivot_table на разные таблицы"
      ],
      "metadata": {
        "id": "Xsu_ZJcMS4VX"
      }
    },
    {
      "cell_type": "code",
      "execution_count": 527,
      "metadata": {
        "id": "BBDlR1mFhLu0",
        "colab": {
          "base_uri": "https://localhost:8080/",
          "height": 1000
        },
        "outputId": "52412b18-1185-4db9-f58b-8c828931ccc1"
      },
      "outputs": [
        {
          "output_type": "execute_result",
          "data": {
            "text/plain": [
              "                                             fall_1  \\\n",
              "0                       Statistical Learning Theory   \n",
              "1             Байесовские методы машинного обучения   \n",
              "2             Байесовские методы машинного обучения   \n",
              "3                  Безопасность компьютерных систем   \n",
              "4                  Безопасность компьютерных систем   \n",
              "5                  Безопасность компьютерных систем   \n",
              "6                  Безопасность компьютерных систем   \n",
              "7                  Безопасность компьютерных систем   \n",
              "8                  Безопасность компьютерных систем   \n",
              "9                  Безопасность компьютерных систем   \n",
              "10                Высокопроизводительные вычисления   \n",
              "11                Высокопроизводительные вычисления   \n",
              "12                    Моделирование временных рядов   \n",
              "13  Сбор и обработка данных с помощью краудсорсинга   \n",
              "14                                         Язык SQL   \n",
              "\n",
              "                                             fall_2  \\\n",
              "0                 Анализ неструктурированных данных   \n",
              "1                 Анализ неструктурированных данных   \n",
              "2                 Анализ неструктурированных данных   \n",
              "3                       Statistical Learning Theory   \n",
              "4                 Высокопроизводительные вычисления   \n",
              "5                 Высокопроизводительные вычисления   \n",
              "6                 Высокопроизводительные вычисления   \n",
              "7                              Матричные вычисления   \n",
              "8   Сбор и обработка данных с помощью краудсорсинга   \n",
              "9                                 Теория баз данных   \n",
              "10                 Безопасность компьютерных систем   \n",
              "11  Сбор и обработка данных с помощью краудсорсинга   \n",
              "12  Сбор и обработка данных с помощью краудсорсинга   \n",
              "13                                         Язык SQL   \n",
              "14                Высокопроизводительные вычисления   \n",
              "\n",
              "                                             fall_3  \\\n",
              "0   Сбор и обработка данных с помощью краудсорсинга   \n",
              "1              Глубинное обучение в обработке звука   \n",
              "2   Сбор и обработка данных с помощью краудсорсинга   \n",
              "3                              Матричные вычисления   \n",
              "4                 Анализ неструктурированных данных   \n",
              "5                                          Язык SQL   \n",
              "6                                          Язык SQL   \n",
              "7                     Моделирование временных рядов   \n",
              "8                              Матричные вычисления   \n",
              "9                                          Язык SQL   \n",
              "10  Сбор и обработка данных с помощью краудсорсинга   \n",
              "11                    Моделирование временных рядов   \n",
              "12                 Безопасность компьютерных систем   \n",
              "13                                Теория баз данных   \n",
              "14                                Теория баз данных   \n",
              "\n",
              "                                             spring_1  \\\n",
              "0                            Обучение с подкреплением   \n",
              "1                            Обучение с подкреплением   \n",
              "2                            Обучение с подкреплением   \n",
              "3                              Дискретная оптимизация   \n",
              "4   Проектирование и разработка высоконагруженных ...   \n",
              "5                                   Компьютерные сети   \n",
              "6         Промышленное программирование на языке Java   \n",
              "7         Промышленное программирование на языке Java   \n",
              "8                                   Компьютерные сети   \n",
              "9                                 Машинное обучение 2   \n",
              "10  Проектирование и разработка высоконагруженных ...   \n",
              "11  Проектирование и разработка высоконагруженных ...   \n",
              "12                                  Компьютерные сети   \n",
              "13        Промышленное программирование на языке Java   \n",
              "14                                  Компьютерные сети   \n",
              "\n",
              "                                       spring_2  \\\n",
              "0                        Конфликты и кооперация   \n",
              "1       Генеративные модели в машинном обучении   \n",
              "2                           Компьютерное зрение   \n",
              "3   Промышленное программирование на языке Java   \n",
              "4          Методы сжатия и передачи медиаданных   \n",
              "5   Промышленное программирование на языке Java   \n",
              "6                             Компьютерные сети   \n",
              "7                             Компьютерные сети   \n",
              "8   Промышленное программирование на языке Java   \n",
              "9                             Компьютерные сети   \n",
              "10         Методы сжатия и передачи медиаданных   \n",
              "11         Методы сжатия и передачи медиаданных   \n",
              "12   Дополнительные главы прикладной статистики   \n",
              "13                          Машинное обучение 2   \n",
              "14  Промышленное программирование на языке Java   \n",
              "\n",
              "                                       spring_3 blended  students  \n",
              "0                           Компьютерное зрение  DevOps         2  \n",
              "1                           Компьютерное зрение  DevOps         2  \n",
              "2       Генеративные модели в машинном обучении  DevOps         2  \n",
              "3    Дополнительные главы прикладной статистики                 3  \n",
              "4                        Конфликты и кооперация  DevOps         2  \n",
              "5                        Дискретная оптимизация                 3  \n",
              "6                            Системы баз данных                 2  \n",
              "7                        Дискретная оптимизация                 2  \n",
              "8                       Анализ данных в бизнесе                 2  \n",
              "9   Промышленное программирование на языке Java                 2  \n",
              "10                          Компьютерное зрение  DevOps         2  \n",
              "11         Методы сжатия и передачи медиаданных  DevOps         2  \n",
              "12                           Системы баз данных                 2  \n",
              "13                            Компьютерные сети                 2  \n",
              "14                       Дискретная оптимизация                 2  "
            ],
            "text/html": [
              "\n",
              "  <div id=\"df-68e7d75a-b954-413f-9419-e8a35b907c0e\" class=\"colab-df-container\">\n",
              "    <div>\n",
              "<style scoped>\n",
              "    .dataframe tbody tr th:only-of-type {\n",
              "        vertical-align: middle;\n",
              "    }\n",
              "\n",
              "    .dataframe tbody tr th {\n",
              "        vertical-align: top;\n",
              "    }\n",
              "\n",
              "    .dataframe thead th {\n",
              "        text-align: right;\n",
              "    }\n",
              "</style>\n",
              "<table border=\"1\" class=\"dataframe\">\n",
              "  <thead>\n",
              "    <tr style=\"text-align: right;\">\n",
              "      <th></th>\n",
              "      <th>fall_1</th>\n",
              "      <th>fall_2</th>\n",
              "      <th>fall_3</th>\n",
              "      <th>spring_1</th>\n",
              "      <th>spring_2</th>\n",
              "      <th>spring_3</th>\n",
              "      <th>blended</th>\n",
              "      <th>students</th>\n",
              "    </tr>\n",
              "  </thead>\n",
              "  <tbody>\n",
              "    <tr>\n",
              "      <th>0</th>\n",
              "      <td>Statistical Learning Theory</td>\n",
              "      <td>Анализ неструктурированных данных</td>\n",
              "      <td>Сбор и обработка данных с помощью краудсорсинга</td>\n",
              "      <td>Обучение с подкреплением</td>\n",
              "      <td>Конфликты и кооперация</td>\n",
              "      <td>Компьютерное зрение</td>\n",
              "      <td>DevOps</td>\n",
              "      <td>2</td>\n",
              "    </tr>\n",
              "    <tr>\n",
              "      <th>1</th>\n",
              "      <td>Байесовские методы машинного обучения</td>\n",
              "      <td>Анализ неструктурированных данных</td>\n",
              "      <td>Глубинное обучение в обработке звука</td>\n",
              "      <td>Обучение с подкреплением</td>\n",
              "      <td>Генеративные модели в машинном обучении</td>\n",
              "      <td>Компьютерное зрение</td>\n",
              "      <td>DevOps</td>\n",
              "      <td>2</td>\n",
              "    </tr>\n",
              "    <tr>\n",
              "      <th>2</th>\n",
              "      <td>Байесовские методы машинного обучения</td>\n",
              "      <td>Анализ неструктурированных данных</td>\n",
              "      <td>Сбор и обработка данных с помощью краудсорсинга</td>\n",
              "      <td>Обучение с подкреплением</td>\n",
              "      <td>Компьютерное зрение</td>\n",
              "      <td>Генеративные модели в машинном обучении</td>\n",
              "      <td>DevOps</td>\n",
              "      <td>2</td>\n",
              "    </tr>\n",
              "    <tr>\n",
              "      <th>3</th>\n",
              "      <td>Безопасность компьютерных систем</td>\n",
              "      <td>Statistical Learning Theory</td>\n",
              "      <td>Матричные вычисления</td>\n",
              "      <td>Дискретная оптимизация</td>\n",
              "      <td>Промышленное программирование на языке Java</td>\n",
              "      <td>Дополнительные главы прикладной статистики</td>\n",
              "      <td></td>\n",
              "      <td>3</td>\n",
              "    </tr>\n",
              "    <tr>\n",
              "      <th>4</th>\n",
              "      <td>Безопасность компьютерных систем</td>\n",
              "      <td>Высокопроизводительные вычисления</td>\n",
              "      <td>Анализ неструктурированных данных</td>\n",
              "      <td>Проектирование и разработка высоконагруженных ...</td>\n",
              "      <td>Методы сжатия и передачи медиаданных</td>\n",
              "      <td>Конфликты и кооперация</td>\n",
              "      <td>DevOps</td>\n",
              "      <td>2</td>\n",
              "    </tr>\n",
              "    <tr>\n",
              "      <th>5</th>\n",
              "      <td>Безопасность компьютерных систем</td>\n",
              "      <td>Высокопроизводительные вычисления</td>\n",
              "      <td>Язык SQL</td>\n",
              "      <td>Компьютерные сети</td>\n",
              "      <td>Промышленное программирование на языке Java</td>\n",
              "      <td>Дискретная оптимизация</td>\n",
              "      <td></td>\n",
              "      <td>3</td>\n",
              "    </tr>\n",
              "    <tr>\n",
              "      <th>6</th>\n",
              "      <td>Безопасность компьютерных систем</td>\n",
              "      <td>Высокопроизводительные вычисления</td>\n",
              "      <td>Язык SQL</td>\n",
              "      <td>Промышленное программирование на языке Java</td>\n",
              "      <td>Компьютерные сети</td>\n",
              "      <td>Системы баз данных</td>\n",
              "      <td></td>\n",
              "      <td>2</td>\n",
              "    </tr>\n",
              "    <tr>\n",
              "      <th>7</th>\n",
              "      <td>Безопасность компьютерных систем</td>\n",
              "      <td>Матричные вычисления</td>\n",
              "      <td>Моделирование временных рядов</td>\n",
              "      <td>Промышленное программирование на языке Java</td>\n",
              "      <td>Компьютерные сети</td>\n",
              "      <td>Дискретная оптимизация</td>\n",
              "      <td></td>\n",
              "      <td>2</td>\n",
              "    </tr>\n",
              "    <tr>\n",
              "      <th>8</th>\n",
              "      <td>Безопасность компьютерных систем</td>\n",
              "      <td>Сбор и обработка данных с помощью краудсорсинга</td>\n",
              "      <td>Матричные вычисления</td>\n",
              "      <td>Компьютерные сети</td>\n",
              "      <td>Промышленное программирование на языке Java</td>\n",
              "      <td>Анализ данных в бизнесе</td>\n",
              "      <td></td>\n",
              "      <td>2</td>\n",
              "    </tr>\n",
              "    <tr>\n",
              "      <th>9</th>\n",
              "      <td>Безопасность компьютерных систем</td>\n",
              "      <td>Теория баз данных</td>\n",
              "      <td>Язык SQL</td>\n",
              "      <td>Машинное обучение 2</td>\n",
              "      <td>Компьютерные сети</td>\n",
              "      <td>Промышленное программирование на языке Java</td>\n",
              "      <td></td>\n",
              "      <td>2</td>\n",
              "    </tr>\n",
              "    <tr>\n",
              "      <th>10</th>\n",
              "      <td>Высокопроизводительные вычисления</td>\n",
              "      <td>Безопасность компьютерных систем</td>\n",
              "      <td>Сбор и обработка данных с помощью краудсорсинга</td>\n",
              "      <td>Проектирование и разработка высоконагруженных ...</td>\n",
              "      <td>Методы сжатия и передачи медиаданных</td>\n",
              "      <td>Компьютерное зрение</td>\n",
              "      <td>DevOps</td>\n",
              "      <td>2</td>\n",
              "    </tr>\n",
              "    <tr>\n",
              "      <th>11</th>\n",
              "      <td>Высокопроизводительные вычисления</td>\n",
              "      <td>Сбор и обработка данных с помощью краудсорсинга</td>\n",
              "      <td>Моделирование временных рядов</td>\n",
              "      <td>Проектирование и разработка высоконагруженных ...</td>\n",
              "      <td>Методы сжатия и передачи медиаданных</td>\n",
              "      <td>Методы сжатия и передачи медиаданных</td>\n",
              "      <td>DevOps</td>\n",
              "      <td>2</td>\n",
              "    </tr>\n",
              "    <tr>\n",
              "      <th>12</th>\n",
              "      <td>Моделирование временных рядов</td>\n",
              "      <td>Сбор и обработка данных с помощью краудсорсинга</td>\n",
              "      <td>Безопасность компьютерных систем</td>\n",
              "      <td>Компьютерные сети</td>\n",
              "      <td>Дополнительные главы прикладной статистики</td>\n",
              "      <td>Системы баз данных</td>\n",
              "      <td></td>\n",
              "      <td>2</td>\n",
              "    </tr>\n",
              "    <tr>\n",
              "      <th>13</th>\n",
              "      <td>Сбор и обработка данных с помощью краудсорсинга</td>\n",
              "      <td>Язык SQL</td>\n",
              "      <td>Теория баз данных</td>\n",
              "      <td>Промышленное программирование на языке Java</td>\n",
              "      <td>Машинное обучение 2</td>\n",
              "      <td>Компьютерные сети</td>\n",
              "      <td></td>\n",
              "      <td>2</td>\n",
              "    </tr>\n",
              "    <tr>\n",
              "      <th>14</th>\n",
              "      <td>Язык SQL</td>\n",
              "      <td>Высокопроизводительные вычисления</td>\n",
              "      <td>Теория баз данных</td>\n",
              "      <td>Компьютерные сети</td>\n",
              "      <td>Промышленное программирование на языке Java</td>\n",
              "      <td>Дискретная оптимизация</td>\n",
              "      <td></td>\n",
              "      <td>2</td>\n",
              "    </tr>\n",
              "  </tbody>\n",
              "</table>\n",
              "</div>\n",
              "    <div class=\"colab-df-buttons\">\n",
              "\n",
              "  <div class=\"colab-df-container\">\n",
              "    <button class=\"colab-df-convert\" onclick=\"convertToInteractive('df-68e7d75a-b954-413f-9419-e8a35b907c0e')\"\n",
              "            title=\"Convert this dataframe to an interactive table.\"\n",
              "            style=\"display:none;\">\n",
              "\n",
              "  <svg xmlns=\"http://www.w3.org/2000/svg\" height=\"24px\" viewBox=\"0 -960 960 960\">\n",
              "    <path d=\"M120-120v-720h720v720H120Zm60-500h600v-160H180v160Zm220 220h160v-160H400v160Zm0 220h160v-160H400v160ZM180-400h160v-160H180v160Zm440 0h160v-160H620v160ZM180-180h160v-160H180v160Zm440 0h160v-160H620v160Z\"/>\n",
              "  </svg>\n",
              "    </button>\n",
              "\n",
              "  <style>\n",
              "    .colab-df-container {\n",
              "      display:flex;\n",
              "      gap: 12px;\n",
              "    }\n",
              "\n",
              "    .colab-df-convert {\n",
              "      background-color: #E8F0FE;\n",
              "      border: none;\n",
              "      border-radius: 50%;\n",
              "      cursor: pointer;\n",
              "      display: none;\n",
              "      fill: #1967D2;\n",
              "      height: 32px;\n",
              "      padding: 0 0 0 0;\n",
              "      width: 32px;\n",
              "    }\n",
              "\n",
              "    .colab-df-convert:hover {\n",
              "      background-color: #E2EBFA;\n",
              "      box-shadow: 0px 1px 2px rgba(60, 64, 67, 0.3), 0px 1px 3px 1px rgba(60, 64, 67, 0.15);\n",
              "      fill: #174EA6;\n",
              "    }\n",
              "\n",
              "    .colab-df-buttons div {\n",
              "      margin-bottom: 4px;\n",
              "    }\n",
              "\n",
              "    [theme=dark] .colab-df-convert {\n",
              "      background-color: #3B4455;\n",
              "      fill: #D2E3FC;\n",
              "    }\n",
              "\n",
              "    [theme=dark] .colab-df-convert:hover {\n",
              "      background-color: #434B5C;\n",
              "      box-shadow: 0px 1px 3px 1px rgba(0, 0, 0, 0.15);\n",
              "      filter: drop-shadow(0px 1px 2px rgba(0, 0, 0, 0.3));\n",
              "      fill: #FFFFFF;\n",
              "    }\n",
              "  </style>\n",
              "\n",
              "    <script>\n",
              "      const buttonEl =\n",
              "        document.querySelector('#df-68e7d75a-b954-413f-9419-e8a35b907c0e button.colab-df-convert');\n",
              "      buttonEl.style.display =\n",
              "        google.colab.kernel.accessAllowed ? 'block' : 'none';\n",
              "\n",
              "      async function convertToInteractive(key) {\n",
              "        const element = document.querySelector('#df-68e7d75a-b954-413f-9419-e8a35b907c0e');\n",
              "        const dataTable =\n",
              "          await google.colab.kernel.invokeFunction('convertToInteractive',\n",
              "                                                    [key], {});\n",
              "        if (!dataTable) return;\n",
              "\n",
              "        const docLinkHtml = 'Like what you see? Visit the ' +\n",
              "          '<a target=\"_blank\" href=https://colab.research.google.com/notebooks/data_table.ipynb>data table notebook</a>'\n",
              "          + ' to learn more about interactive tables.';\n",
              "        element.innerHTML = '';\n",
              "        dataTable['output_type'] = 'display_data';\n",
              "        await google.colab.output.renderOutput(dataTable, element);\n",
              "        const docLink = document.createElement('div');\n",
              "        docLink.innerHTML = docLinkHtml;\n",
              "        element.appendChild(docLink);\n",
              "      }\n",
              "    </script>\n",
              "  </div>\n",
              "\n",
              "\n",
              "<div id=\"df-bc39e678-6df2-4bba-9a38-27515877fef6\">\n",
              "  <button class=\"colab-df-quickchart\" onclick=\"quickchart('df-bc39e678-6df2-4bba-9a38-27515877fef6')\"\n",
              "            title=\"Suggest charts.\"\n",
              "            style=\"display:none;\">\n",
              "\n",
              "<svg xmlns=\"http://www.w3.org/2000/svg\" height=\"24px\"viewBox=\"0 0 24 24\"\n",
              "     width=\"24px\">\n",
              "    <g>\n",
              "        <path d=\"M19 3H5c-1.1 0-2 .9-2 2v14c0 1.1.9 2 2 2h14c1.1 0 2-.9 2-2V5c0-1.1-.9-2-2-2zM9 17H7v-7h2v7zm4 0h-2V7h2v10zm4 0h-2v-4h2v4z\"/>\n",
              "    </g>\n",
              "</svg>\n",
              "  </button>\n",
              "\n",
              "<style>\n",
              "  .colab-df-quickchart {\n",
              "      --bg-color: #E8F0FE;\n",
              "      --fill-color: #1967D2;\n",
              "      --hover-bg-color: #E2EBFA;\n",
              "      --hover-fill-color: #174EA6;\n",
              "      --disabled-fill-color: #AAA;\n",
              "      --disabled-bg-color: #DDD;\n",
              "  }\n",
              "\n",
              "  [theme=dark] .colab-df-quickchart {\n",
              "      --bg-color: #3B4455;\n",
              "      --fill-color: #D2E3FC;\n",
              "      --hover-bg-color: #434B5C;\n",
              "      --hover-fill-color: #FFFFFF;\n",
              "      --disabled-bg-color: #3B4455;\n",
              "      --disabled-fill-color: #666;\n",
              "  }\n",
              "\n",
              "  .colab-df-quickchart {\n",
              "    background-color: var(--bg-color);\n",
              "    border: none;\n",
              "    border-radius: 50%;\n",
              "    cursor: pointer;\n",
              "    display: none;\n",
              "    fill: var(--fill-color);\n",
              "    height: 32px;\n",
              "    padding: 0;\n",
              "    width: 32px;\n",
              "  }\n",
              "\n",
              "  .colab-df-quickchart:hover {\n",
              "    background-color: var(--hover-bg-color);\n",
              "    box-shadow: 0 1px 2px rgba(60, 64, 67, 0.3), 0 1px 3px 1px rgba(60, 64, 67, 0.15);\n",
              "    fill: var(--button-hover-fill-color);\n",
              "  }\n",
              "\n",
              "  .colab-df-quickchart-complete:disabled,\n",
              "  .colab-df-quickchart-complete:disabled:hover {\n",
              "    background-color: var(--disabled-bg-color);\n",
              "    fill: var(--disabled-fill-color);\n",
              "    box-shadow: none;\n",
              "  }\n",
              "\n",
              "  .colab-df-spinner {\n",
              "    border: 2px solid var(--fill-color);\n",
              "    border-color: transparent;\n",
              "    border-bottom-color: var(--fill-color);\n",
              "    animation:\n",
              "      spin 1s steps(1) infinite;\n",
              "  }\n",
              "\n",
              "  @keyframes spin {\n",
              "    0% {\n",
              "      border-color: transparent;\n",
              "      border-bottom-color: var(--fill-color);\n",
              "      border-left-color: var(--fill-color);\n",
              "    }\n",
              "    20% {\n",
              "      border-color: transparent;\n",
              "      border-left-color: var(--fill-color);\n",
              "      border-top-color: var(--fill-color);\n",
              "    }\n",
              "    30% {\n",
              "      border-color: transparent;\n",
              "      border-left-color: var(--fill-color);\n",
              "      border-top-color: var(--fill-color);\n",
              "      border-right-color: var(--fill-color);\n",
              "    }\n",
              "    40% {\n",
              "      border-color: transparent;\n",
              "      border-right-color: var(--fill-color);\n",
              "      border-top-color: var(--fill-color);\n",
              "    }\n",
              "    60% {\n",
              "      border-color: transparent;\n",
              "      border-right-color: var(--fill-color);\n",
              "    }\n",
              "    80% {\n",
              "      border-color: transparent;\n",
              "      border-right-color: var(--fill-color);\n",
              "      border-bottom-color: var(--fill-color);\n",
              "    }\n",
              "    90% {\n",
              "      border-color: transparent;\n",
              "      border-bottom-color: var(--fill-color);\n",
              "    }\n",
              "  }\n",
              "</style>\n",
              "\n",
              "  <script>\n",
              "    async function quickchart(key) {\n",
              "      const quickchartButtonEl =\n",
              "        document.querySelector('#' + key + ' button');\n",
              "      quickchartButtonEl.disabled = true;  // To prevent multiple clicks.\n",
              "      quickchartButtonEl.classList.add('colab-df-spinner');\n",
              "      try {\n",
              "        const charts = await google.colab.kernel.invokeFunction(\n",
              "            'suggestCharts', [key], {});\n",
              "      } catch (error) {\n",
              "        console.error('Error during call to suggestCharts:', error);\n",
              "      }\n",
              "      quickchartButtonEl.classList.remove('colab-df-spinner');\n",
              "      quickchartButtonEl.classList.add('colab-df-quickchart-complete');\n",
              "    }\n",
              "    (() => {\n",
              "      let quickchartButtonEl =\n",
              "        document.querySelector('#df-bc39e678-6df2-4bba-9a38-27515877fef6 button');\n",
              "      quickchartButtonEl.style.display =\n",
              "        google.colab.kernel.accessAllowed ? 'block' : 'none';\n",
              "    })();\n",
              "  </script>\n",
              "</div>\n",
              "    </div>\n",
              "  </div>\n"
            ]
          },
          "metadata": {},
          "execution_count": 527
        }
      ],
      "source": [
        "df = pd.pivot_table(data,\n",
        "               index=['fall_1', 'fall_2', 'fall_3', 'spring_1', 'spring_2', 'spring_3', 'blended'],\n",
        "               values=['17_group', '18_group'],\n",
        "               aggfunc='count',\n",
        "               fill_value=0)\n",
        "df['students'] = df['17_group']\n",
        "df.drop(['18_group', '17_group'], axis=1).query(\"`students` > 1\").reset_index()"
      ]
    },
    {
      "cell_type": "markdown",
      "metadata": {
        "id": "spu3r3vchLu0"
      },
      "source": [
        "#### 7. [0.5 балла] Найдите курсы по выбору, на которые записывались как студенты 18-го года набора, так и студенты 17-го года."
      ]
    },
    {
      "cell_type": "code",
      "execution_count": 528,
      "metadata": {
        "id": "t21fWi8ShLu0",
        "colab": {
          "base_uri": "https://localhost:8080/"
        },
        "outputId": "334b171f-5fdd-4f7d-e018-8330b1ea86e5"
      },
      "outputs": [
        {
          "output_type": "execute_result",
          "data": {
            "text/plain": [
              "{'Statistical Learning Theory',\n",
              " 'Безопасность компьютерных систем',\n",
              " 'Высокопроизводительные вычисления',\n",
              " 'Моделирование временных рядов',\n",
              " 'Принятие решений в условиях риска и неопределённости',\n",
              " 'Сбор и обработка данных с помощью краудсорсинга',\n",
              " 'Численные методы'}"
            ]
          },
          "metadata": {},
          "execution_count": 528
        }
      ],
      "source": [
        "courses_17 = set()\n",
        "courses_1 = set(data.loc[(data['17_group'] > 0), 'fall_1'])\n",
        "courses_2 = set(data.loc[(data['17_group'] > 0), 'fall_2'])\n",
        "courses_3 = set(data.loc[(data['17_group'] > 0), 'fall_3'])\n",
        "courses_4 = set(data.loc[(data['17_group'] > 0), 'spring_1'])\n",
        "courses_5 = set(data.loc[(data['17_group'] > 0), 'spring_2'])\n",
        "courses_6 = set(data.loc[(data['17_group'] > 0), 'spring_3'])\n",
        "courses_17 = courses_17.union(courses_1, courses_2, courses_3, courses_4, courses_5, courses_6)\n",
        "\n",
        "courses_18 = set()\n",
        "courses_7 = set(data.loc[(data['18_group'] > 0), 'fall_1'])\n",
        "courses_8 = set(data.loc[(data['18_group'] > 0), 'fall_2'])\n",
        "courses_9 = set(data.loc[(data['18_group'] > 0), 'fall_3'])\n",
        "courses_10 = set(data.loc[(data['18_group'] > 0), 'spring_1'])\n",
        "courses_11 = set(data.loc[(data['18_group'] > 0), 'spring_2'])\n",
        "courses_12 = set(data.loc[(data['18_group'] > 0), 'spring_3'])\n",
        "courses_18 = courses_18.union(courses_7, courses_8, courses_9, courses_10, courses_11, courses_12)\n",
        "\n",
        "\n",
        "both_courses = set()\n",
        "both_courses = courses_17.intersection(courses_18)\n",
        "both_courses"
      ]
    },
    {
      "cell_type": "markdown",
      "metadata": {
        "id": "PYfX-Dr5hLu0"
      },
      "source": [
        "Методом исключения найдите курсы, которые предлагались только студентам 18-го года и только студентам 17-го года."
      ]
    },
    {
      "cell_type": "markdown",
      "source": [
        "Только 17-го набора:"
      ],
      "metadata": {
        "id": "IDMtf36n3yOb"
      }
    },
    {
      "cell_type": "code",
      "execution_count": 529,
      "metadata": {
        "id": "G9SWBOpehLu1",
        "colab": {
          "base_uri": "https://localhost:8080/"
        },
        "outputId": "02f843f5-0da1-43e4-d227-adfb0926de88"
      },
      "outputs": [
        {
          "output_type": "execute_result",
          "data": {
            "text/plain": [
              "{'Анализ неструктурированных данных',\n",
              " 'Байесовские методы машинного обучения',\n",
              " 'Генеративные модели в машинном обучении',\n",
              " 'Глубинное обучение в обработке звука',\n",
              " 'Компьютерное зрение',\n",
              " 'Конфликты и кооперация',\n",
              " 'Методы сжатия и передачи медиаданных',\n",
              " 'Обучение с подкреплением',\n",
              " 'Проектирование и разработка высоконагруженных сервисов',\n",
              " 'Символьные вычисления'}"
            ]
          },
          "metadata": {},
          "execution_count": 529
        }
      ],
      "source": [
        "courses_17 = courses_17.difference(both_courses)\n",
        "courses_17"
      ]
    },
    {
      "cell_type": "markdown",
      "source": [
        "18-Го года набора:"
      ],
      "metadata": {
        "id": "ZD_oebwATg2t"
      }
    },
    {
      "cell_type": "code",
      "source": [
        "courses_18 = courses_18.difference(both_courses)\n",
        "courses_18"
      ],
      "metadata": {
        "colab": {
          "base_uri": "https://localhost:8080/"
        },
        "id": "qxNX_ntlTgd7",
        "outputId": "a8fd6a6e-09f0-40f2-996b-9acc742b06d2"
      },
      "execution_count": 530,
      "outputs": [
        {
          "output_type": "execute_result",
          "data": {
            "text/plain": [
              "{'Анализ данных в бизнесе',\n",
              " 'Дискретная оптимизация',\n",
              " 'Дополнительные главы прикладной статистики',\n",
              " 'Компьютерные сети',\n",
              " 'Матричные вычисления',\n",
              " 'Машинное обучение 2',\n",
              " 'Промышленное программирование на языке Java',\n",
              " 'Системы баз данных',\n",
              " 'Теория баз данных',\n",
              " 'Язык SQL'}"
            ]
          },
          "metadata": {},
          "execution_count": 530
        }
      ]
    },
    {
      "cell_type": "markdown",
      "metadata": {
        "id": "uL45Tg5fhLu1"
      },
      "source": [
        "### Визуализации и matplotlib"
      ]
    },
    {
      "cell_type": "markdown",
      "metadata": {
        "id": "MY9lKmP2hLu1"
      },
      "source": [
        "При работе с данными часто неудобно делать какие-то выводы, если смотреть на таблицу и числа в частности, поэтому важно уметь визуализировать данные. Здесь будут описаны ключевые правила оформления графиков для **всех** домашних заданий.\n",
        "\n",
        "У matplotlib, конечно же, есть [документация](https://matplotlib.org/users/index.html) с большим количеством [примеров](https://matplotlib.org/examples/), но для начала достаточно знать про несколько основных типов графиков:\n",
        "- plot — обычный поточечный график, которым можно изображать кривые или отдельные точки;\n",
        "- hist — гистограмма, показывающая распределение некоторой величины;\n",
        "- scatter — график, показывающий взаимосвязь двух величин;\n",
        "- bar — столбцовый график, показывающий взаимосвязь количественной величины от категориальной.\n",
        "\n",
        "В этом задании вы попробуете построить один из них. Не забывайте про базовые принципы построения приличных графиков:\n",
        "- оси должны быть подписаны, причём не слишком мелко;\n",
        "- у графика должно быть название;\n",
        "- если изображено несколько графиков, то необходима поясняющая легенда;\n",
        "- все линии на графиках должны быть чётко видны (нет похожих цветов или цветов, сливающихся с фоном);\n",
        "- если отображена величина, имеющая очевидный диапазон значений (например, проценты могут быть от 0 до 100), то желательно масштабировать ось на весь диапазон значений (исключением является случай, когда вам необходимо показать малое отличие, которое незаметно в таких масштабах);\n",
        "- сетка на графике помогает оценить значения в точках на глаз, это обычно полезно, поэтому лучше ее отрисовывать;\n",
        "- если распределение на гистограмме имеет тяжёлые хвосты, лучше использовать логарифмическую шкалу.\n",
        "\n",
        "Еще одна билиотека для визуализации: [seaborn](https://jakevdp.github.io/PythonDataScienceHandbook/04.14-visualization-with-seaborn.html) (обычно сокращается до sns). Это настройка над matplotlib, иногда удобнее и красивее делать визуализации через неё.\n",
        "\n",
        "**5 пунктов после которых ваши графики не будут прежними:**\n",
        "- для красивой картинки <code>%config InlineBackend.figure_format = 'retina'</code>\n",
        "- задаем размер (почти) всех графиков (можно выбрать другие значения) <code>plt.rcParams['figure.figsize'] = 8, 5</code>\n",
        "- размер шрифта подписей графиков <code>plt.rcParams['font.size'] = 12</code>\n",
        "- формат в котором сохраняется изображение <code>mpl.rcParams['savefig.format'] = 'pdf'</code>\n",
        "- sns – seaborn, добавляет решетку <code>sns.set_style('darkgrid')</code>\n",
        "\n",
        "Добавьте эти функции в ячейку ниже. Каждый график все равно придется настраивать отдельно, но указанные строчки позволят значительно упростить процесс.  "
      ]
    },
    {
      "cell_type": "code",
      "execution_count": 531,
      "metadata": {
        "id": "na9doUOFhLu1"
      },
      "outputs": [],
      "source": [
        "%matplotlib inline\n",
        "import matplotlib.pyplot as plt\n",
        "import seaborn as sns\n",
        "import datetime as dt\n",
        "\n",
        "\n",
        "%config InlineBackend.figure_format = 'retina'\n",
        "plt.rcParams['figure.figsize'] = 8, 5\n",
        "plt.rcParams['font.size'] = 12\n",
        "mpl.rcParams['savefig.format'] = 'pdf'\n",
        "sns.set_style('darkgrid')"
      ]
    },
    {
      "cell_type": "markdown",
      "metadata": {
        "id": "kikwLpxfhLu1"
      },
      "source": [
        "#### 8. [0.5 балла] Постройте график средних рейтингов по дням получения ответов (bar plot)."
      ]
    },
    {
      "cell_type": "code",
      "execution_count": 532,
      "metadata": {
        "id": "UTPLVeQvhLu2",
        "colab": {
          "base_uri": "https://localhost:8080/",
          "height": 470
        },
        "outputId": "14ab4605-3507-4341-ef6f-9e1fc5eea883"
      },
      "outputs": [
        {
          "output_type": "display_data",
          "data": {
            "text/plain": [
              "<Figure size 800x500 with 1 Axes>"
            ],
            "image/png": "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\n"
          },
          "metadata": {
            "image/png": {
              "width": 714,
              "height": 453
            }
          }
        }
      ],
      "source": [
        "data['timestamp'] = pd.to_datetime(data.timestamp)\n",
        "data['date'] = data['timestamp'].dt.strftime(\"%d\")\n",
        "plt.bar(data['date'], data['rating'])\n",
        "plt.ylabel(\"Rating\")\n",
        "plt.xlabel(\"Day in May\")\n",
        "plt.savefig('saved_ratinginday.pdf')\n",
        "plt.show()"
      ]
    },
    {
      "cell_type": "markdown",
      "metadata": {
        "id": "AmsQg9_xhLu2"
      },
      "source": [
        "Сохраните график в формате pdf (так он останется векторизованным)."
      ]
    },
    {
      "cell_type": "markdown",
      "source": [
        "Смотри выше!"
      ],
      "metadata": {
        "id": "-IuAZ1J6No_g"
      }
    },
    {
      "cell_type": "markdown",
      "metadata": {
        "id": "sCgWwjl0hLu2"
      },
      "source": [
        "### 2. Распределение студентов по курсам."
      ]
    },
    {
      "cell_type": "markdown",
      "metadata": {
        "id": "c5QbAKtHGH_d"
      },
      "source": [
        "<span style=\"color:red\">!!!ВНИМАТЕЛЬНО ИЗУЧИТЕ ТЕКСТ НИЖЕ!!!</span>.\n",
        "\n",
        "<span style=\"color:orange\">Если во время выполнения заданий у вас вознинут вопросы -- еще раз перечитайте текст целиком, скорее всего ответы уже содержатся в нем.</span>"
      ]
    },
    {
      "cell_type": "markdown",
      "metadata": {
        "id": "VNqXUpr4hLu3"
      },
      "source": [
        "Теперь вам нужно распределить студентов по осенним курсам по выбору, учитывая их предпочтения."
      ]
    },
    {
      "cell_type": "markdown",
      "metadata": {
        "id": "5cAR2FgphLu3"
      },
      "source": [
        "Алгоритм распределения студентов по курсам:\n",
        "1. По умолчанию на каждой дисциплине по выбору у 3 и 4 курсов может учиться 1 группа (до 30 студентов). Исключения описаны ниже. На blended-дисциплинах для четверокурсников количество мест не ограничено.\n",
        "2. Проводится первая волна отбора. Для каждой дисциплины формируется список тех, кто указал её первым приоритетом (если студент должен выбрать два курса по выбору, то для него дисциплины, которые он указал первым и вторым приоритетом, рассматриваются как дисциплины первого приоритета). Если желающих больше, чем мест, то выбирается топ по перцентилю рейтинга.\n",
        "3. На дисциплинах, где остались места после первой волны, формируются списки тех, кто выбрал их вторым приоритетом и еще не прошел на необходимое количество курсов. Места заполняются лучшими по перцентилю рейтинга студентами. После этого проводится такая же процедура для дисциплин третьего приоритета.\n",
        "4. Если студент не попал на необходимое количество курсов по итогам трёх волн, с ним связывается учебный офис и решает вопрос в индивидуальном порядке."
      ]
    },
    {
      "cell_type": "markdown",
      "metadata": {
        "id": "BiNKVwS6hLu3"
      },
      "source": [
        "Обращаем ваше внимание на следующие детали:\n",
        "- Конкурс на каждый курс общий для 3-го и 4-го курса\n",
        "\n",
        "- По умолчанию студент выбирает один осенний и один весенний курс по выбору, а также четверокурсники выбирают один blended-курс. Студенты групп 17-го года специализаций МОП и ТИ выбирают по 2 осенних и 2 весенних курса по выбору, также студенты групп 18' специализации МИ выбирают 2 осенних курса. <i>Для студентов, которые выбирают 2 курса (например, осенних) первый приоритет — <code>fall_1</code> и <code>fall_2</code>, второй приоритет — <code>fall_3</code>. Такие студенты участвуют только в двух волнах отбора</i>.\n",
        "\n",
        "- Студенты специализации МОП не могут выбрать весенним курсом по выбору Машинное обучение 2. **Если студент специализации МОП выбрал Машинное обучение 2, то его приоритеты сдвигаются.** Из-за совпадений первого и второго курса по выбору двигать приоритеты не надо.\n",
        "\n",
        "- Blended-курсы не трогайте, по ним не надо распределять, на другие курсы они никак не влияют.\n",
        "\n",
        "- Заведомо известно, что в процессе распределения не возникнет ситуации, когда на одно место претендуют студенты с одинаковым перцентилем.\n",
        "\n",
        "- Постарайтесь воздержаться от использования циклов там, где это возможно. <i>Допустимо итерироваться по <b>курсам</b>, на которые проводится отбор, и по <b>волнам</b> отбора. Если вы придумаете, как обойтись и без этих циклов, то на усмотрение проверяющего могут быть добавлены бонусные баллы. <b>Дублирование кода не признается успешным избавлением от циклов</b></i>\n",
        "\n",
        "- На выходе ожидается файл res_fall.csv с результатами распределения на осенние курсы по выбору. Файл должен быть следующего формата:\n",
        "\n",
        "    * Три колонки: ID, course1, course2\n",
        "    \n",
        "    * Если студент не попал на курс, но должен был, то вместо названия курса в ячейке должна быть строка \"???\"\n",
        "    \n",
        "    * Если студент должен выбрать только один курс, то в колонке course2 для него должна стоять строка \"-\"\n",
        "    \n",
        "    * Если студент должен выбрать два курса по выбору, то порядок в колонках course1 и course2 не важен.\n",
        "    \n",
        "    * hint: для сохранения воспользуйтесь df.to_csv('solution.csv', index=None)\n",
        "    \n",
        "\n",
        "Для работы вам могут понадобиться следующие данные:\n",
        "\n",
        "- Результаты опроса (вы уже использовали этот файл в первой части задания, но на всякий случай ссылка: https://www.dropbox.com/s/f4rm8sjc3v99p0m/_end_seminar.xlsx?dl=0)\n",
        "\n",
        "- Соответствие номеров групп специализациям:\n",
        "\n",
        "    * 171, 172 - МОП; 173 - ТИ; 174 — АДИС; 175, 176 — РС; 177 — АПР\n",
        "    \n",
        "    * У студентов 18-го года номера групп соответствуют номерам до распределения по специализациям. Это означает, что по номеру группы 18* нельзя однозначно определить специализацию студента. При этом в рамках распределения важно знать информацию только о двух из них: МОП и МИ. Эти знание можно получить из колонок 'is_ml_student\n",
        "' и 'is_mi' соответственно.\n",
        "\n",
        "- Ограничения по количеству мест на курсах по выбору:\n",
        "\n",
        "    * Осенние: везде 30 мест, кроме Statistical Learning Theory (60 мест), Высокопроизводительных вычислений (60 мест), Анализа неструктурированных данных ($\\infty$ мест)\n",
        "\n",
        "    * Весенние: везде 30 мест, кроме Обучения с подкреплением (60 мест), Анализа данных в бизнесе (60 мест).\n",
        "\n",
        "\n",
        "Кстати, убедитесь, что в данных больше нет пропусков и повторных записей."
      ]
    },
    {
      "cell_type": "markdown",
      "metadata": {
        "id": "o5t55IcQhLu4"
      },
      "source": [
        "#### 0. Проверка\n",
        "\n",
        "Для начала давайте убедимся, что вы успешно выполнили задания первой части и проверим ваши данные на наличие пропусков и повторов:"
      ]
    },
    {
      "cell_type": "code",
      "execution_count": 533,
      "metadata": {
        "id": "34HWEdVdhLu4"
      },
      "outputs": [],
      "source": [
        "assert data.shape[0] == 347, 'В таблице остались повторы или потеряны данные'\n",
        "\n",
        "assert data.isna().sum().sum() == 0, 'В таблице остались пропуски'"
      ]
    },
    {
      "cell_type": "markdown",
      "metadata": {
        "id": "_ImUFyG3hLu4"
      },
      "source": [
        "Если вы не получили AssertionError, то можете продолжать."
      ]
    },
    {
      "cell_type": "markdown",
      "metadata": {
        "id": "LTGSwwvAhLu4"
      },
      "source": [
        "#### 1. [1 балл] Создайте новый признак, обозначающий, сколько осенних курсов должен выбрать студент\n",
        "\n",
        "В этом вам может помочь информация о специализации и группе стундента."
      ]
    },
    {
      "cell_type": "code",
      "execution_count": 534,
      "metadata": {
        "id": "ouxo0kHFhLu4"
      },
      "outputs": [],
      "source": [
        "def course_autumn(student):\n",
        "  if student['17_group'] != 0:\n",
        "    if student['17_group'] == 171 or student['17_group'] == 172 or student['17_group'] == 173:\n",
        "      return 2\n",
        "    else:\n",
        "      return 1\n",
        "  else:\n",
        "    if student['is_mi']:\n",
        "      return 2\n",
        "    else:\n",
        "      return 1"
      ]
    },
    {
      "cell_type": "markdown",
      "metadata": {
        "id": "S47aq1sQhLu4"
      },
      "source": [
        "Проверка:"
      ]
    },
    {
      "cell_type": "code",
      "execution_count": 535,
      "metadata": {
        "id": "OlOgzDKDhLu5"
      },
      "outputs": [],
      "source": [
        "data['course_number'] = data.apply(course_autumn, axis=1)  # insert your new column name as str\n",
        "\n",
        "assert(data[data['id'] == '2662600c2c37e11e62f6ee0b88452f22']['course_number'] == 2).all()\n",
        "assert(data[data['id'] == 'd555d2805e1d93d4f023e57dc4c8f403']['course_number'] == 2).all()\n",
        "assert(data[data['id'] == '8fe79f84f36e3a5d2d6745621321302c']['course_number'] == 1).all()\n",
        "assert(data[data['id'] == 'e4caca755ee0bdd711e18fb8084958b5']['course_number'] == 1).all()"
      ]
    },
    {
      "cell_type": "markdown",
      "metadata": {
        "id": "VtQYhwuPhLu5"
      },
      "source": [
        "#### 2. [2 балла] Распределите студентов в соответствии с первым приоритетом"
      ]
    },
    {
      "cell_type": "code",
      "execution_count": 536,
      "metadata": {
        "id": "6gWfT3vqhLu5"
      },
      "outputs": [],
      "source": [
        "from numpy import NaN\n",
        "\n",
        "autumn_courses = data.groupby([\"fall_1\"]).apply(lambda x: x.sort_values([\"percentile\"], ascending = True)).loc[:, ['id', 'percentile', 'course_number']]\n",
        "\n",
        "\n",
        "autumn_courses['free_size'] = 0\n",
        "autumn_courses['course_1'] = '???'\n",
        "autumn_courses['course_2'] = '-'\n",
        "autumn_courses['is_first_place'] = NaN\n",
        "autumn_courses['is_last_place'] = NaN\n",
        "\n",
        "\n",
        "current_course = ''\n",
        "last_id = 0\n",
        "for id, a in autumn_courses.iterrows():\n",
        "  if (id[0] != current_course):\n",
        "    if (last_id != 0):\n",
        "      autumn_courses.loc[(autumn_courses['id'] == last_id), 'is_last_place'] = True\n",
        "\n",
        "    autumn_courses.loc[(autumn_courses['course_1'] == current_course), 'free_size'] = size\n",
        "    current_course = id[0]\n",
        "    if id[0] ==  'Statistical Learning Theory' or id[0] == 'Высокопроизводительные вычисления':\n",
        "      size = 60\n",
        "    elif id[0] == 'Анализ неструктурированных данных':\n",
        "      size = 350\n",
        "    else:\n",
        "      size = 30\n",
        "\n",
        "    autumn_courses.loc[(autumn_courses['id'] == a.id), 'is_first_place'] = True\n",
        "\n",
        "  elif size <= 0:\n",
        "    continue\n",
        "\n",
        "  if size == 1:\n",
        "    autumn_courses.loc[(autumn_courses['id'] == a.id), 'is_last_place'] = True\n",
        "\n",
        "\n",
        "  last_id = a.id\n",
        "  size -= 1\n",
        "\n",
        "  if (autumn_courses[autumn_courses['id'] == a.id]['course_1'] == '???').bool():\n",
        "    autumn_courses.loc[(autumn_courses['id'] == a.id), 'course_1'] =  current_course\n",
        "\n",
        "\n",
        "autumn_courses.loc[(autumn_courses['course_1'] == current_course), 'free_size'] = size\n",
        "autumn_courses.loc[(autumn_courses['id'] == last_id), 'is_last_place'] = True\n"
      ]
    },
    {
      "cell_type": "markdown",
      "source": [
        "Первая волна для студентов, которым нужно выбрать 2 курса:"
      ],
      "metadata": {
        "id": "L-rG_t7zba9G"
      }
    },
    {
      "cell_type": "code",
      "source": [
        "second_wall = autumn_courses.merge(data[['fall_2', 'id']])\n",
        "second_wall = second_wall.groupby([\"fall_2\"]).apply(lambda x: x.sort_values([\"percentile\"], ascending = True)).drop('fall_2', axis=1).reset_index()"
      ],
      "metadata": {
        "id": "SYlmrxaClH20"
      },
      "execution_count": 537,
      "outputs": []
    },
    {
      "cell_type": "code",
      "source": [
        "\n",
        "for id, a in second_wall.iterrows():\n",
        "\n",
        "  if (second_wall[second_wall['id'] == a.id]['course_number'] == 2).bool():\n",
        "    second_wall.loc[(second_wall['id'] == a.id), 'course_2'] =  '???'\n",
        "\n",
        "\n",
        "    perc = second_wall.loc[(second_wall['id'] == a.id), 'percentile']\n",
        "    worst_perc = second_wall.loc[((second_wall['course_1'] == a.fall_2) | (second_wall['course_2'] == a.fall_2))& (second_wall['is_last_place'] == True), 'percentile']\n",
        "\n",
        "    if (second_wall[second_wall['id'] == a.id]['course_1'] == a.fall_2).all():\n",
        "      continue;\n",
        "\n",
        "    if ((second_wall[second_wall['course_1'] == a.fall_2]['free_size'] <= 0) & (perc.iloc[0] >= worst_perc.iloc[0])).all():\n",
        "      continue;\n",
        "\n",
        "    if (second_wall[second_wall['id'] == a.id]['course_1'] == '???').bool():\n",
        "      second_wall.loc[(second_wall['id'] == a.id), 'course_1'] =  a.fall_2\n",
        "    else:\n",
        "      second_wall.loc[(second_wall['id'] == a.id), 'course_2'] =  a.fall_2\n",
        "\n",
        "\n",
        "    if ((second_wall[second_wall['course_1'] == a.fall_2]['free_size'] <= 0) & (perc.iloc[0] < worst_perc.iloc[0])).all():\n",
        "      second_wall.loc[(second_wall['percentile'] == worst_perc.iloc[0]), 'is_last_place'] = NaN\n",
        "\n",
        "\n",
        "      if (second_wall.loc[(second_wall['percentile'] == worst_perc.iloc[0]), 'course_1'] == a.fall_2).bool():\n",
        "        second_wall.loc[(second_wall['percentile'] == worst_perc.iloc[0]), 'course_1'] = '???'\n",
        "      else:\n",
        "        second_wall.loc[(second_wall['percentile'] == worst_perc.iloc[0]), 'course_2'] = '???'\n",
        "\n",
        "      new_worst_1 = second_wall[second_wall['course_1'] == a.fall_2]['percentile'].sort_values().iloc[-1]\n",
        "      new_worst_2 = 0\n",
        "      new_worst_second = second_wall[second_wall['course_2'] == a.fall_2]['percentile'].sort_values()\n",
        "      if len(new_worst_second) > 0:\n",
        "        new_worst_2 = second_wall[second_wall['course_2'] == a.fall_2]['percentile'].sort_values().iloc[-1]\n",
        "\n",
        "      if (new_worst_1 > new_worst_2):\n",
        "        second_wall.loc[(second_wall['percentile'] == new_worst_1), 'is_last_place'] = True\n",
        "      else:\n",
        "        second_wall.loc[(second_wall['percentile'] == new_worst_2), 'is_last_place'] = True\n",
        "\n",
        "\n",
        "    else:\n",
        "      second_wall.loc[(second_wall['course_1'] == a.fall_2), 'free_size'] -=  1\n"
      ],
      "metadata": {
        "id": "xekqVvTYbhpu"
      },
      "execution_count": 538,
      "outputs": []
    },
    {
      "cell_type": "markdown",
      "source": [
        "Добавляем две колонки для дальнейшей проверки:"
      ],
      "metadata": {
        "id": "cds5_MJT7Wbc"
      }
    },
    {
      "cell_type": "code",
      "source": [
        "best = pd.melt(second_wall, id_vars='id', value_vars=['course_1', 'course_2'], value_name='courses').merge(second_wall[['id', 'percentile']]).groupby(['courses']).agg({'percentile' : 'min'})[2:]\n",
        "best['is_first_place'] = True\n",
        "worst = pd.melt(second_wall, id_vars='id', value_vars=['course_1', 'course_2'], value_name='courses').merge(second_wall[['id', 'percentile']]).groupby(['courses']).agg({'percentile' : 'max'})[2:]\n",
        "worst['is_last_place'] = True\n",
        "# data = data.drop(['is_first_place', 'is_last_place'], axis=1)\n",
        "data = data.merge(best, how='left').merge(worst, how='left').drop_duplicates()\n",
        "# data = data.merge(worst, how='left').drop_duplicates()\n",
        "\n",
        "worst.sort_values(by=['percentile'])"
      ],
      "metadata": {
        "colab": {
          "base_uri": "https://localhost:8080/",
          "height": 457
        },
        "id": "WyHA5cWZRc-e",
        "outputId": "8de13d25-8105-444f-f882-76461eb900bf"
      },
      "execution_count": 539,
      "outputs": [
        {
          "output_type": "execute_result",
          "data": {
            "text/plain": [
              "                                                    percentile  is_last_place\n",
              "courses                                                                      \n",
              "Безопасность компьютерных систем                      0.210762           True\n",
              "Сбор и обработка данных с помощью краудсорсинга       0.637681           True\n",
              "Байесовские методы машинного обучения                 0.905797           True\n",
              "Высокопроизводительные вычисления                     0.919283           True\n",
              "Теория баз данных                                     0.923767           True\n",
              "Матричные вычисления                                  0.932735           True\n",
              "Глубинное обучение в обработке звука                  0.963768           True\n",
              "Язык SQL                                              0.968610           True\n",
              "Моделирование временных рядов                         0.971014           True\n",
              "Statistical Learning Theory                           0.973094           True\n",
              "Анализ неструктурированных данных                     0.992754           True\n",
              "Принятие решений в условиях риска и неопределён...    0.995516           True"
            ],
            "text/html": [
              "\n",
              "  <div id=\"df-f118c405-e8dc-4e0a-970b-8342e741bb40\" class=\"colab-df-container\">\n",
              "    <div>\n",
              "<style scoped>\n",
              "    .dataframe tbody tr th:only-of-type {\n",
              "        vertical-align: middle;\n",
              "    }\n",
              "\n",
              "    .dataframe tbody tr th {\n",
              "        vertical-align: top;\n",
              "    }\n",
              "\n",
              "    .dataframe thead th {\n",
              "        text-align: right;\n",
              "    }\n",
              "</style>\n",
              "<table border=\"1\" class=\"dataframe\">\n",
              "  <thead>\n",
              "    <tr style=\"text-align: right;\">\n",
              "      <th></th>\n",
              "      <th>percentile</th>\n",
              "      <th>is_last_place</th>\n",
              "    </tr>\n",
              "    <tr>\n",
              "      <th>courses</th>\n",
              "      <th></th>\n",
              "      <th></th>\n",
              "    </tr>\n",
              "  </thead>\n",
              "  <tbody>\n",
              "    <tr>\n",
              "      <th>Безопасность компьютерных систем</th>\n",
              "      <td>0.210762</td>\n",
              "      <td>True</td>\n",
              "    </tr>\n",
              "    <tr>\n",
              "      <th>Сбор и обработка данных с помощью краудсорсинга</th>\n",
              "      <td>0.637681</td>\n",
              "      <td>True</td>\n",
              "    </tr>\n",
              "    <tr>\n",
              "      <th>Байесовские методы машинного обучения</th>\n",
              "      <td>0.905797</td>\n",
              "      <td>True</td>\n",
              "    </tr>\n",
              "    <tr>\n",
              "      <th>Высокопроизводительные вычисления</th>\n",
              "      <td>0.919283</td>\n",
              "      <td>True</td>\n",
              "    </tr>\n",
              "    <tr>\n",
              "      <th>Теория баз данных</th>\n",
              "      <td>0.923767</td>\n",
              "      <td>True</td>\n",
              "    </tr>\n",
              "    <tr>\n",
              "      <th>Матричные вычисления</th>\n",
              "      <td>0.932735</td>\n",
              "      <td>True</td>\n",
              "    </tr>\n",
              "    <tr>\n",
              "      <th>Глубинное обучение в обработке звука</th>\n",
              "      <td>0.963768</td>\n",
              "      <td>True</td>\n",
              "    </tr>\n",
              "    <tr>\n",
              "      <th>Язык SQL</th>\n",
              "      <td>0.968610</td>\n",
              "      <td>True</td>\n",
              "    </tr>\n",
              "    <tr>\n",
              "      <th>Моделирование временных рядов</th>\n",
              "      <td>0.971014</td>\n",
              "      <td>True</td>\n",
              "    </tr>\n",
              "    <tr>\n",
              "      <th>Statistical Learning Theory</th>\n",
              "      <td>0.973094</td>\n",
              "      <td>True</td>\n",
              "    </tr>\n",
              "    <tr>\n",
              "      <th>Анализ неструктурированных данных</th>\n",
              "      <td>0.992754</td>\n",
              "      <td>True</td>\n",
              "    </tr>\n",
              "    <tr>\n",
              "      <th>Принятие решений в условиях риска и неопределённости</th>\n",
              "      <td>0.995516</td>\n",
              "      <td>True</td>\n",
              "    </tr>\n",
              "  </tbody>\n",
              "</table>\n",
              "</div>\n",
              "    <div class=\"colab-df-buttons\">\n",
              "\n",
              "  <div class=\"colab-df-container\">\n",
              "    <button class=\"colab-df-convert\" onclick=\"convertToInteractive('df-f118c405-e8dc-4e0a-970b-8342e741bb40')\"\n",
              "            title=\"Convert this dataframe to an interactive table.\"\n",
              "            style=\"display:none;\">\n",
              "\n",
              "  <svg xmlns=\"http://www.w3.org/2000/svg\" height=\"24px\" viewBox=\"0 -960 960 960\">\n",
              "    <path d=\"M120-120v-720h720v720H120Zm60-500h600v-160H180v160Zm220 220h160v-160H400v160Zm0 220h160v-160H400v160ZM180-400h160v-160H180v160Zm440 0h160v-160H620v160ZM180-180h160v-160H180v160Zm440 0h160v-160H620v160Z\"/>\n",
              "  </svg>\n",
              "    </button>\n",
              "\n",
              "  <style>\n",
              "    .colab-df-container {\n",
              "      display:flex;\n",
              "      gap: 12px;\n",
              "    }\n",
              "\n",
              "    .colab-df-convert {\n",
              "      background-color: #E8F0FE;\n",
              "      border: none;\n",
              "      border-radius: 50%;\n",
              "      cursor: pointer;\n",
              "      display: none;\n",
              "      fill: #1967D2;\n",
              "      height: 32px;\n",
              "      padding: 0 0 0 0;\n",
              "      width: 32px;\n",
              "    }\n",
              "\n",
              "    .colab-df-convert:hover {\n",
              "      background-color: #E2EBFA;\n",
              "      box-shadow: 0px 1px 2px rgba(60, 64, 67, 0.3), 0px 1px 3px 1px rgba(60, 64, 67, 0.15);\n",
              "      fill: #174EA6;\n",
              "    }\n",
              "\n",
              "    .colab-df-buttons div {\n",
              "      margin-bottom: 4px;\n",
              "    }\n",
              "\n",
              "    [theme=dark] .colab-df-convert {\n",
              "      background-color: #3B4455;\n",
              "      fill: #D2E3FC;\n",
              "    }\n",
              "\n",
              "    [theme=dark] .colab-df-convert:hover {\n",
              "      background-color: #434B5C;\n",
              "      box-shadow: 0px 1px 3px 1px rgba(0, 0, 0, 0.15);\n",
              "      filter: drop-shadow(0px 1px 2px rgba(0, 0, 0, 0.3));\n",
              "      fill: #FFFFFF;\n",
              "    }\n",
              "  </style>\n",
              "\n",
              "    <script>\n",
              "      const buttonEl =\n",
              "        document.querySelector('#df-f118c405-e8dc-4e0a-970b-8342e741bb40 button.colab-df-convert');\n",
              "      buttonEl.style.display =\n",
              "        google.colab.kernel.accessAllowed ? 'block' : 'none';\n",
              "\n",
              "      async function convertToInteractive(key) {\n",
              "        const element = document.querySelector('#df-f118c405-e8dc-4e0a-970b-8342e741bb40');\n",
              "        const dataTable =\n",
              "          await google.colab.kernel.invokeFunction('convertToInteractive',\n",
              "                                                    [key], {});\n",
              "        if (!dataTable) return;\n",
              "\n",
              "        const docLinkHtml = 'Like what you see? Visit the ' +\n",
              "          '<a target=\"_blank\" href=https://colab.research.google.com/notebooks/data_table.ipynb>data table notebook</a>'\n",
              "          + ' to learn more about interactive tables.';\n",
              "        element.innerHTML = '';\n",
              "        dataTable['output_type'] = 'display_data';\n",
              "        await google.colab.output.renderOutput(dataTable, element);\n",
              "        const docLink = document.createElement('div');\n",
              "        docLink.innerHTML = docLinkHtml;\n",
              "        element.appendChild(docLink);\n",
              "      }\n",
              "    </script>\n",
              "  </div>\n",
              "\n",
              "\n",
              "<div id=\"df-89f14c05-7d4f-46bc-83b4-0d8225b5016b\">\n",
              "  <button class=\"colab-df-quickchart\" onclick=\"quickchart('df-89f14c05-7d4f-46bc-83b4-0d8225b5016b')\"\n",
              "            title=\"Suggest charts.\"\n",
              "            style=\"display:none;\">\n",
              "\n",
              "<svg xmlns=\"http://www.w3.org/2000/svg\" height=\"24px\"viewBox=\"0 0 24 24\"\n",
              "     width=\"24px\">\n",
              "    <g>\n",
              "        <path d=\"M19 3H5c-1.1 0-2 .9-2 2v14c0 1.1.9 2 2 2h14c1.1 0 2-.9 2-2V5c0-1.1-.9-2-2-2zM9 17H7v-7h2v7zm4 0h-2V7h2v10zm4 0h-2v-4h2v4z\"/>\n",
              "    </g>\n",
              "</svg>\n",
              "  </button>\n",
              "\n",
              "<style>\n",
              "  .colab-df-quickchart {\n",
              "      --bg-color: #E8F0FE;\n",
              "      --fill-color: #1967D2;\n",
              "      --hover-bg-color: #E2EBFA;\n",
              "      --hover-fill-color: #174EA6;\n",
              "      --disabled-fill-color: #AAA;\n",
              "      --disabled-bg-color: #DDD;\n",
              "  }\n",
              "\n",
              "  [theme=dark] .colab-df-quickchart {\n",
              "      --bg-color: #3B4455;\n",
              "      --fill-color: #D2E3FC;\n",
              "      --hover-bg-color: #434B5C;\n",
              "      --hover-fill-color: #FFFFFF;\n",
              "      --disabled-bg-color: #3B4455;\n",
              "      --disabled-fill-color: #666;\n",
              "  }\n",
              "\n",
              "  .colab-df-quickchart {\n",
              "    background-color: var(--bg-color);\n",
              "    border: none;\n",
              "    border-radius: 50%;\n",
              "    cursor: pointer;\n",
              "    display: none;\n",
              "    fill: var(--fill-color);\n",
              "    height: 32px;\n",
              "    padding: 0;\n",
              "    width: 32px;\n",
              "  }\n",
              "\n",
              "  .colab-df-quickchart:hover {\n",
              "    background-color: var(--hover-bg-color);\n",
              "    box-shadow: 0 1px 2px rgba(60, 64, 67, 0.3), 0 1px 3px 1px rgba(60, 64, 67, 0.15);\n",
              "    fill: var(--button-hover-fill-color);\n",
              "  }\n",
              "\n",
              "  .colab-df-quickchart-complete:disabled,\n",
              "  .colab-df-quickchart-complete:disabled:hover {\n",
              "    background-color: var(--disabled-bg-color);\n",
              "    fill: var(--disabled-fill-color);\n",
              "    box-shadow: none;\n",
              "  }\n",
              "\n",
              "  .colab-df-spinner {\n",
              "    border: 2px solid var(--fill-color);\n",
              "    border-color: transparent;\n",
              "    border-bottom-color: var(--fill-color);\n",
              "    animation:\n",
              "      spin 1s steps(1) infinite;\n",
              "  }\n",
              "\n",
              "  @keyframes spin {\n",
              "    0% {\n",
              "      border-color: transparent;\n",
              "      border-bottom-color: var(--fill-color);\n",
              "      border-left-color: var(--fill-color);\n",
              "    }\n",
              "    20% {\n",
              "      border-color: transparent;\n",
              "      border-left-color: var(--fill-color);\n",
              "      border-top-color: var(--fill-color);\n",
              "    }\n",
              "    30% {\n",
              "      border-color: transparent;\n",
              "      border-left-color: var(--fill-color);\n",
              "      border-top-color: var(--fill-color);\n",
              "      border-right-color: var(--fill-color);\n",
              "    }\n",
              "    40% {\n",
              "      border-color: transparent;\n",
              "      border-right-color: var(--fill-color);\n",
              "      border-top-color: var(--fill-color);\n",
              "    }\n",
              "    60% {\n",
              "      border-color: transparent;\n",
              "      border-right-color: var(--fill-color);\n",
              "    }\n",
              "    80% {\n",
              "      border-color: transparent;\n",
              "      border-right-color: var(--fill-color);\n",
              "      border-bottom-color: var(--fill-color);\n",
              "    }\n",
              "    90% {\n",
              "      border-color: transparent;\n",
              "      border-bottom-color: var(--fill-color);\n",
              "    }\n",
              "  }\n",
              "</style>\n",
              "\n",
              "  <script>\n",
              "    async function quickchart(key) {\n",
              "      const quickchartButtonEl =\n",
              "        document.querySelector('#' + key + ' button');\n",
              "      quickchartButtonEl.disabled = true;  // To prevent multiple clicks.\n",
              "      quickchartButtonEl.classList.add('colab-df-spinner');\n",
              "      try {\n",
              "        const charts = await google.colab.kernel.invokeFunction(\n",
              "            'suggestCharts', [key], {});\n",
              "      } catch (error) {\n",
              "        console.error('Error during call to suggestCharts:', error);\n",
              "      }\n",
              "      quickchartButtonEl.classList.remove('colab-df-spinner');\n",
              "      quickchartButtonEl.classList.add('colab-df-quickchart-complete');\n",
              "    }\n",
              "    (() => {\n",
              "      let quickchartButtonEl =\n",
              "        document.querySelector('#df-89f14c05-7d4f-46bc-83b4-0d8225b5016b button');\n",
              "      quickchartButtonEl.style.display =\n",
              "        google.colab.kernel.accessAllowed ? 'block' : 'none';\n",
              "    })();\n",
              "  </script>\n",
              "</div>\n",
              "    </div>\n",
              "  </div>\n"
            ]
          },
          "metadata": {},
          "execution_count": 539
        }
      ]
    },
    {
      "cell_type": "code",
      "source": [
        "# data.loc[data['is_last_place'] == True, ['id', 'percentile']].sort_values(by=['percentile'])"
      ],
      "metadata": {
        "id": "4CTHuKdHt5R5"
      },
      "execution_count": 540,
      "outputs": []
    },
    {
      "cell_type": "markdown",
      "source": [
        "Сохраним результат в отдельный файл:"
      ],
      "metadata": {
        "id": "fT_RRdr7sT-4"
      }
    },
    {
      "cell_type": "code",
      "source": [
        "res = second_wall.loc[:, ['id', 'course_1', 'course_2']]"
      ],
      "metadata": {
        "id": "gT0BexbAsW6d"
      },
      "execution_count": 541,
      "outputs": []
    },
    {
      "cell_type": "markdown",
      "metadata": {
        "id": "vc5zXP5hhLu5"
      },
      "source": [
        "Здесь для проверки приведена таблица, в которой есть 2 дополнительные колонки:\n",
        "    \n",
        "    1) is_first_place - является ли студент лучшим по перцентили хотя бы на одном из курсов, куда он был зачислен\n",
        "    (True / NaN)\n",
        "    \n",
        "    2) is_last_place  - является ли студент худшим по перцентили хотя бы на одном из курсов, куда он был зачислен (True / NaN)"
      ]
    },
    {
      "cell_type": "code",
      "execution_count": 542,
      "metadata": {
        "id": "uZTkGEq5hLu5"
      },
      "outputs": [],
      "source": [
        "!wget  -O '2_task_check.csv' -q 'https://www.dropbox.com/s/v8o2zzq3iz5gc9w/_2_task_check.csv?dl=0'\n",
        "check_df = pd.read_csv('2_task_check.csv')\n",
        "check_df = check_df.sort_values(by=['timestamp'])"
      ]
    },
    {
      "cell_type": "markdown",
      "metadata": {
        "id": "E_fbyB9qhLu5"
      },
      "source": [
        "После распределения студентов в соответствии с первым приоритетом добавьте в свой датафрейм аналогичные признаки и запустите проверку:"
      ]
    },
    {
      "cell_type": "code",
      "source": [
        "second_wall.loc[second_wall['id'] == 'c1e88502b6673d22c38ee1352e3a1dd9']"
      ],
      "metadata": {
        "colab": {
          "base_uri": "https://localhost:8080/",
          "height": 135
        },
        "id": "wMYY3HDl4YoQ",
        "outputId": "749b5372-a915-4268-ad9c-2099cf0575cf"
      },
      "execution_count": 543,
      "outputs": [
        {
          "output_type": "execute_result",
          "data": {
            "text/plain": [
              "                            fall_2  level_1                                id  \\\n",
              "223  Моделирование временных рядов       55  c1e88502b6673d22c38ee1352e3a1dd9   \n",
              "\n",
              "     percentile  course_number free_size                           course_1  \\\n",
              "223    0.971014              2       302  Анализ неструктурированных данных   \n",
              "\n",
              "                          course_2 is_first_place is_last_place  \n",
              "223  Моделирование временных рядов            NaN           NaN  "
            ],
            "text/html": [
              "\n",
              "  <div id=\"df-097e6547-4274-4b87-b47f-be6f4258dbff\" class=\"colab-df-container\">\n",
              "    <div>\n",
              "<style scoped>\n",
              "    .dataframe tbody tr th:only-of-type {\n",
              "        vertical-align: middle;\n",
              "    }\n",
              "\n",
              "    .dataframe tbody tr th {\n",
              "        vertical-align: top;\n",
              "    }\n",
              "\n",
              "    .dataframe thead th {\n",
              "        text-align: right;\n",
              "    }\n",
              "</style>\n",
              "<table border=\"1\" class=\"dataframe\">\n",
              "  <thead>\n",
              "    <tr style=\"text-align: right;\">\n",
              "      <th></th>\n",
              "      <th>fall_2</th>\n",
              "      <th>level_1</th>\n",
              "      <th>id</th>\n",
              "      <th>percentile</th>\n",
              "      <th>course_number</th>\n",
              "      <th>free_size</th>\n",
              "      <th>course_1</th>\n",
              "      <th>course_2</th>\n",
              "      <th>is_first_place</th>\n",
              "      <th>is_last_place</th>\n",
              "    </tr>\n",
              "  </thead>\n",
              "  <tbody>\n",
              "    <tr>\n",
              "      <th>223</th>\n",
              "      <td>Моделирование временных рядов</td>\n",
              "      <td>55</td>\n",
              "      <td>c1e88502b6673d22c38ee1352e3a1dd9</td>\n",
              "      <td>0.971014</td>\n",
              "      <td>2</td>\n",
              "      <td>302</td>\n",
              "      <td>Анализ неструктурированных данных</td>\n",
              "      <td>Моделирование временных рядов</td>\n",
              "      <td>NaN</td>\n",
              "      <td>NaN</td>\n",
              "    </tr>\n",
              "  </tbody>\n",
              "</table>\n",
              "</div>\n",
              "    <div class=\"colab-df-buttons\">\n",
              "\n",
              "  <div class=\"colab-df-container\">\n",
              "    <button class=\"colab-df-convert\" onclick=\"convertToInteractive('df-097e6547-4274-4b87-b47f-be6f4258dbff')\"\n",
              "            title=\"Convert this dataframe to an interactive table.\"\n",
              "            style=\"display:none;\">\n",
              "\n",
              "  <svg xmlns=\"http://www.w3.org/2000/svg\" height=\"24px\" viewBox=\"0 -960 960 960\">\n",
              "    <path d=\"M120-120v-720h720v720H120Zm60-500h600v-160H180v160Zm220 220h160v-160H400v160Zm0 220h160v-160H400v160ZM180-400h160v-160H180v160Zm440 0h160v-160H620v160ZM180-180h160v-160H180v160Zm440 0h160v-160H620v160Z\"/>\n",
              "  </svg>\n",
              "    </button>\n",
              "\n",
              "  <style>\n",
              "    .colab-df-container {\n",
              "      display:flex;\n",
              "      gap: 12px;\n",
              "    }\n",
              "\n",
              "    .colab-df-convert {\n",
              "      background-color: #E8F0FE;\n",
              "      border: none;\n",
              "      border-radius: 50%;\n",
              "      cursor: pointer;\n",
              "      display: none;\n",
              "      fill: #1967D2;\n",
              "      height: 32px;\n",
              "      padding: 0 0 0 0;\n",
              "      width: 32px;\n",
              "    }\n",
              "\n",
              "    .colab-df-convert:hover {\n",
              "      background-color: #E2EBFA;\n",
              "      box-shadow: 0px 1px 2px rgba(60, 64, 67, 0.3), 0px 1px 3px 1px rgba(60, 64, 67, 0.15);\n",
              "      fill: #174EA6;\n",
              "    }\n",
              "\n",
              "    .colab-df-buttons div {\n",
              "      margin-bottom: 4px;\n",
              "    }\n",
              "\n",
              "    [theme=dark] .colab-df-convert {\n",
              "      background-color: #3B4455;\n",
              "      fill: #D2E3FC;\n",
              "    }\n",
              "\n",
              "    [theme=dark] .colab-df-convert:hover {\n",
              "      background-color: #434B5C;\n",
              "      box-shadow: 0px 1px 3px 1px rgba(0, 0, 0, 0.15);\n",
              "      filter: drop-shadow(0px 1px 2px rgba(0, 0, 0, 0.3));\n",
              "      fill: #FFFFFF;\n",
              "    }\n",
              "  </style>\n",
              "\n",
              "    <script>\n",
              "      const buttonEl =\n",
              "        document.querySelector('#df-097e6547-4274-4b87-b47f-be6f4258dbff button.colab-df-convert');\n",
              "      buttonEl.style.display =\n",
              "        google.colab.kernel.accessAllowed ? 'block' : 'none';\n",
              "\n",
              "      async function convertToInteractive(key) {\n",
              "        const element = document.querySelector('#df-097e6547-4274-4b87-b47f-be6f4258dbff');\n",
              "        const dataTable =\n",
              "          await google.colab.kernel.invokeFunction('convertToInteractive',\n",
              "                                                    [key], {});\n",
              "        if (!dataTable) return;\n",
              "\n",
              "        const docLinkHtml = 'Like what you see? Visit the ' +\n",
              "          '<a target=\"_blank\" href=https://colab.research.google.com/notebooks/data_table.ipynb>data table notebook</a>'\n",
              "          + ' to learn more about interactive tables.';\n",
              "        element.innerHTML = '';\n",
              "        dataTable['output_type'] = 'display_data';\n",
              "        await google.colab.output.renderOutput(dataTable, element);\n",
              "        const docLink = document.createElement('div');\n",
              "        docLink.innerHTML = docLinkHtml;\n",
              "        element.appendChild(docLink);\n",
              "      }\n",
              "    </script>\n",
              "  </div>\n",
              "\n",
              "    </div>\n",
              "  </div>\n"
            ]
          },
          "metadata": {},
          "execution_count": 543
        }
      ]
    },
    {
      "cell_type": "code",
      "source": [
        "df = data.drop(['date', 'course_number'], axis=1)\n",
        "# df.columns.tolist() == check_df.columns.tolist()\n",
        "# print(check_df.loc[check_df['is_last_place'] == True, ['id', 'percentile']].sort_values(by=['percentile']))\n",
        "# print(data.loc[data['is_last_place'] == True, ['id', 'percentile']].sort_values(by=['percentile']))"
      ],
      "metadata": {
        "id": "MHgFXauN-UYv"
      },
      "execution_count": 544,
      "outputs": []
    },
    {
      "cell_type": "code",
      "execution_count": 545,
      "metadata": {
        "id": "GOAzQeYehLu6"
      },
      "outputs": [],
      "source": [
        "fir_col_name = 'is_first_place'    # insert name of your new column with is_first_place as str\n",
        "last_col_name =  'is_last_place'    # insert name of your new column with is_last_place as str\n",
        "\n",
        "\n",
        "assert((data[data['is_first_place'].isna() == False][['id']].sort_values('id').reset_index(drop=True)\n",
        "        ==\n",
        "        check_df[check_df['is_first_place'].isna() == False][['id']].sort_values('id').reset_index(drop=True)\n",
        "       ).id.values).all()\n",
        "\n",
        "\n",
        "assert((data[data['is_last_place'].isna() == False][['id']].sort_values('id').reset_index(drop=True)\n",
        "       ==\n",
        "       check_df[check_df['is_last_place'].isna() == False][['id']].sort_values('id').reset_index(drop=True)\n",
        "      ).id.values).all()"
      ]
    },
    {
      "cell_type": "markdown",
      "metadata": {
        "id": "RO6DwNNFhLu6"
      },
      "source": [
        "#### 3. [3 балла] Проведите все три волны отбора студентов на курсы по выбору"
      ]
    },
    {
      "cell_type": "markdown",
      "source": [
        "Сделаю отдельно таблицу с курсами и количеством оставшихся мест на них:\n"
      ],
      "metadata": {
        "id": "k_NEOfWhwz2r"
      }
    },
    {
      "cell_type": "code",
      "source": [
        "sizes = second_wall[['course_1', 'free_size']].groupby('course_1').agg({'free_size':'max'}).reset_index()[1:]\n",
        "sizes"
      ],
      "metadata": {
        "colab": {
          "base_uri": "https://localhost:8080/",
          "height": 425
        },
        "id": "8Gf__N_iw5ev",
        "outputId": "877fe22c-41f8-4fd6-d52f-a71aa79ec69d"
      },
      "execution_count": 546,
      "outputs": [
        {
          "output_type": "execute_result",
          "data": {
            "text/plain": [
              "                                             course_1  free_size\n",
              "1                         Statistical Learning Theory         27\n",
              "2                   Анализ неструктурированных данных        302\n",
              "3               Байесовские методы машинного обучения          6\n",
              "4                    Безопасность компьютерных систем          0\n",
              "5                   Высокопроизводительные вычисления         16\n",
              "6                Глубинное обучение в обработке звука          7\n",
              "7                                Матричные вычисления         15\n",
              "8                       Моделирование временных рядов          0\n",
              "9   Принятие решений в условиях риска и неопределё...         22\n",
              "10    Сбор и обработка данных с помощью краудсорсинга          0\n",
              "11                                  Теория баз данных         16\n",
              "12                                           Язык SQL          1"
            ],
            "text/html": [
              "\n",
              "  <div id=\"df-9e9ed804-dceb-4d00-a01c-4b7639f39584\" class=\"colab-df-container\">\n",
              "    <div>\n",
              "<style scoped>\n",
              "    .dataframe tbody tr th:only-of-type {\n",
              "        vertical-align: middle;\n",
              "    }\n",
              "\n",
              "    .dataframe tbody tr th {\n",
              "        vertical-align: top;\n",
              "    }\n",
              "\n",
              "    .dataframe thead th {\n",
              "        text-align: right;\n",
              "    }\n",
              "</style>\n",
              "<table border=\"1\" class=\"dataframe\">\n",
              "  <thead>\n",
              "    <tr style=\"text-align: right;\">\n",
              "      <th></th>\n",
              "      <th>course_1</th>\n",
              "      <th>free_size</th>\n",
              "    </tr>\n",
              "  </thead>\n",
              "  <tbody>\n",
              "    <tr>\n",
              "      <th>1</th>\n",
              "      <td>Statistical Learning Theory</td>\n",
              "      <td>27</td>\n",
              "    </tr>\n",
              "    <tr>\n",
              "      <th>2</th>\n",
              "      <td>Анализ неструктурированных данных</td>\n",
              "      <td>302</td>\n",
              "    </tr>\n",
              "    <tr>\n",
              "      <th>3</th>\n",
              "      <td>Байесовские методы машинного обучения</td>\n",
              "      <td>6</td>\n",
              "    </tr>\n",
              "    <tr>\n",
              "      <th>4</th>\n",
              "      <td>Безопасность компьютерных систем</td>\n",
              "      <td>0</td>\n",
              "    </tr>\n",
              "    <tr>\n",
              "      <th>5</th>\n",
              "      <td>Высокопроизводительные вычисления</td>\n",
              "      <td>16</td>\n",
              "    </tr>\n",
              "    <tr>\n",
              "      <th>6</th>\n",
              "      <td>Глубинное обучение в обработке звука</td>\n",
              "      <td>7</td>\n",
              "    </tr>\n",
              "    <tr>\n",
              "      <th>7</th>\n",
              "      <td>Матричные вычисления</td>\n",
              "      <td>15</td>\n",
              "    </tr>\n",
              "    <tr>\n",
              "      <th>8</th>\n",
              "      <td>Моделирование временных рядов</td>\n",
              "      <td>0</td>\n",
              "    </tr>\n",
              "    <tr>\n",
              "      <th>9</th>\n",
              "      <td>Принятие решений в условиях риска и неопределё...</td>\n",
              "      <td>22</td>\n",
              "    </tr>\n",
              "    <tr>\n",
              "      <th>10</th>\n",
              "      <td>Сбор и обработка данных с помощью краудсорсинга</td>\n",
              "      <td>0</td>\n",
              "    </tr>\n",
              "    <tr>\n",
              "      <th>11</th>\n",
              "      <td>Теория баз данных</td>\n",
              "      <td>16</td>\n",
              "    </tr>\n",
              "    <tr>\n",
              "      <th>12</th>\n",
              "      <td>Язык SQL</td>\n",
              "      <td>1</td>\n",
              "    </tr>\n",
              "  </tbody>\n",
              "</table>\n",
              "</div>\n",
              "    <div class=\"colab-df-buttons\">\n",
              "\n",
              "  <div class=\"colab-df-container\">\n",
              "    <button class=\"colab-df-convert\" onclick=\"convertToInteractive('df-9e9ed804-dceb-4d00-a01c-4b7639f39584')\"\n",
              "            title=\"Convert this dataframe to an interactive table.\"\n",
              "            style=\"display:none;\">\n",
              "\n",
              "  <svg xmlns=\"http://www.w3.org/2000/svg\" height=\"24px\" viewBox=\"0 -960 960 960\">\n",
              "    <path d=\"M120-120v-720h720v720H120Zm60-500h600v-160H180v160Zm220 220h160v-160H400v160Zm0 220h160v-160H400v160ZM180-400h160v-160H180v160Zm440 0h160v-160H620v160ZM180-180h160v-160H180v160Zm440 0h160v-160H620v160Z\"/>\n",
              "  </svg>\n",
              "    </button>\n",
              "\n",
              "  <style>\n",
              "    .colab-df-container {\n",
              "      display:flex;\n",
              "      gap: 12px;\n",
              "    }\n",
              "\n",
              "    .colab-df-convert {\n",
              "      background-color: #E8F0FE;\n",
              "      border: none;\n",
              "      border-radius: 50%;\n",
              "      cursor: pointer;\n",
              "      display: none;\n",
              "      fill: #1967D2;\n",
              "      height: 32px;\n",
              "      padding: 0 0 0 0;\n",
              "      width: 32px;\n",
              "    }\n",
              "\n",
              "    .colab-df-convert:hover {\n",
              "      background-color: #E2EBFA;\n",
              "      box-shadow: 0px 1px 2px rgba(60, 64, 67, 0.3), 0px 1px 3px 1px rgba(60, 64, 67, 0.15);\n",
              "      fill: #174EA6;\n",
              "    }\n",
              "\n",
              "    .colab-df-buttons div {\n",
              "      margin-bottom: 4px;\n",
              "    }\n",
              "\n",
              "    [theme=dark] .colab-df-convert {\n",
              "      background-color: #3B4455;\n",
              "      fill: #D2E3FC;\n",
              "    }\n",
              "\n",
              "    [theme=dark] .colab-df-convert:hover {\n",
              "      background-color: #434B5C;\n",
              "      box-shadow: 0px 1px 3px 1px rgba(0, 0, 0, 0.15);\n",
              "      filter: drop-shadow(0px 1px 2px rgba(0, 0, 0, 0.3));\n",
              "      fill: #FFFFFF;\n",
              "    }\n",
              "  </style>\n",
              "\n",
              "    <script>\n",
              "      const buttonEl =\n",
              "        document.querySelector('#df-9e9ed804-dceb-4d00-a01c-4b7639f39584 button.colab-df-convert');\n",
              "      buttonEl.style.display =\n",
              "        google.colab.kernel.accessAllowed ? 'block' : 'none';\n",
              "\n",
              "      async function convertToInteractive(key) {\n",
              "        const element = document.querySelector('#df-9e9ed804-dceb-4d00-a01c-4b7639f39584');\n",
              "        const dataTable =\n",
              "          await google.colab.kernel.invokeFunction('convertToInteractive',\n",
              "                                                    [key], {});\n",
              "        if (!dataTable) return;\n",
              "\n",
              "        const docLinkHtml = 'Like what you see? Visit the ' +\n",
              "          '<a target=\"_blank\" href=https://colab.research.google.com/notebooks/data_table.ipynb>data table notebook</a>'\n",
              "          + ' to learn more about interactive tables.';\n",
              "        element.innerHTML = '';\n",
              "        dataTable['output_type'] = 'display_data';\n",
              "        await google.colab.output.renderOutput(dataTable, element);\n",
              "        const docLink = document.createElement('div');\n",
              "        docLink.innerHTML = docLinkHtml;\n",
              "        element.appendChild(docLink);\n",
              "      }\n",
              "    </script>\n",
              "  </div>\n",
              "\n",
              "\n",
              "<div id=\"df-3be42572-71e9-4f61-a308-afbfd1a0a435\">\n",
              "  <button class=\"colab-df-quickchart\" onclick=\"quickchart('df-3be42572-71e9-4f61-a308-afbfd1a0a435')\"\n",
              "            title=\"Suggest charts.\"\n",
              "            style=\"display:none;\">\n",
              "\n",
              "<svg xmlns=\"http://www.w3.org/2000/svg\" height=\"24px\"viewBox=\"0 0 24 24\"\n",
              "     width=\"24px\">\n",
              "    <g>\n",
              "        <path d=\"M19 3H5c-1.1 0-2 .9-2 2v14c0 1.1.9 2 2 2h14c1.1 0 2-.9 2-2V5c0-1.1-.9-2-2-2zM9 17H7v-7h2v7zm4 0h-2V7h2v10zm4 0h-2v-4h2v4z\"/>\n",
              "    </g>\n",
              "</svg>\n",
              "  </button>\n",
              "\n",
              "<style>\n",
              "  .colab-df-quickchart {\n",
              "      --bg-color: #E8F0FE;\n",
              "      --fill-color: #1967D2;\n",
              "      --hover-bg-color: #E2EBFA;\n",
              "      --hover-fill-color: #174EA6;\n",
              "      --disabled-fill-color: #AAA;\n",
              "      --disabled-bg-color: #DDD;\n",
              "  }\n",
              "\n",
              "  [theme=dark] .colab-df-quickchart {\n",
              "      --bg-color: #3B4455;\n",
              "      --fill-color: #D2E3FC;\n",
              "      --hover-bg-color: #434B5C;\n",
              "      --hover-fill-color: #FFFFFF;\n",
              "      --disabled-bg-color: #3B4455;\n",
              "      --disabled-fill-color: #666;\n",
              "  }\n",
              "\n",
              "  .colab-df-quickchart {\n",
              "    background-color: var(--bg-color);\n",
              "    border: none;\n",
              "    border-radius: 50%;\n",
              "    cursor: pointer;\n",
              "    display: none;\n",
              "    fill: var(--fill-color);\n",
              "    height: 32px;\n",
              "    padding: 0;\n",
              "    width: 32px;\n",
              "  }\n",
              "\n",
              "  .colab-df-quickchart:hover {\n",
              "    background-color: var(--hover-bg-color);\n",
              "    box-shadow: 0 1px 2px rgba(60, 64, 67, 0.3), 0 1px 3px 1px rgba(60, 64, 67, 0.15);\n",
              "    fill: var(--button-hover-fill-color);\n",
              "  }\n",
              "\n",
              "  .colab-df-quickchart-complete:disabled,\n",
              "  .colab-df-quickchart-complete:disabled:hover {\n",
              "    background-color: var(--disabled-bg-color);\n",
              "    fill: var(--disabled-fill-color);\n",
              "    box-shadow: none;\n",
              "  }\n",
              "\n",
              "  .colab-df-spinner {\n",
              "    border: 2px solid var(--fill-color);\n",
              "    border-color: transparent;\n",
              "    border-bottom-color: var(--fill-color);\n",
              "    animation:\n",
              "      spin 1s steps(1) infinite;\n",
              "  }\n",
              "\n",
              "  @keyframes spin {\n",
              "    0% {\n",
              "      border-color: transparent;\n",
              "      border-bottom-color: var(--fill-color);\n",
              "      border-left-color: var(--fill-color);\n",
              "    }\n",
              "    20% {\n",
              "      border-color: transparent;\n",
              "      border-left-color: var(--fill-color);\n",
              "      border-top-color: var(--fill-color);\n",
              "    }\n",
              "    30% {\n",
              "      border-color: transparent;\n",
              "      border-left-color: var(--fill-color);\n",
              "      border-top-color: var(--fill-color);\n",
              "      border-right-color: var(--fill-color);\n",
              "    }\n",
              "    40% {\n",
              "      border-color: transparent;\n",
              "      border-right-color: var(--fill-color);\n",
              "      border-top-color: var(--fill-color);\n",
              "    }\n",
              "    60% {\n",
              "      border-color: transparent;\n",
              "      border-right-color: var(--fill-color);\n",
              "    }\n",
              "    80% {\n",
              "      border-color: transparent;\n",
              "      border-right-color: var(--fill-color);\n",
              "      border-bottom-color: var(--fill-color);\n",
              "    }\n",
              "    90% {\n",
              "      border-color: transparent;\n",
              "      border-bottom-color: var(--fill-color);\n",
              "    }\n",
              "  }\n",
              "</style>\n",
              "\n",
              "  <script>\n",
              "    async function quickchart(key) {\n",
              "      const quickchartButtonEl =\n",
              "        document.querySelector('#' + key + ' button');\n",
              "      quickchartButtonEl.disabled = true;  // To prevent multiple clicks.\n",
              "      quickchartButtonEl.classList.add('colab-df-spinner');\n",
              "      try {\n",
              "        const charts = await google.colab.kernel.invokeFunction(\n",
              "            'suggestCharts', [key], {});\n",
              "      } catch (error) {\n",
              "        console.error('Error during call to suggestCharts:', error);\n",
              "      }\n",
              "      quickchartButtonEl.classList.remove('colab-df-spinner');\n",
              "      quickchartButtonEl.classList.add('colab-df-quickchart-complete');\n",
              "    }\n",
              "    (() => {\n",
              "      let quickchartButtonEl =\n",
              "        document.querySelector('#df-3be42572-71e9-4f61-a308-afbfd1a0a435 button');\n",
              "      quickchartButtonEl.style.display =\n",
              "        google.colab.kernel.accessAllowed ? 'block' : 'none';\n",
              "    })();\n",
              "  </script>\n",
              "</div>\n",
              "    </div>\n",
              "  </div>\n"
            ]
          },
          "metadata": {},
          "execution_count": 546
        }
      ]
    },
    {
      "cell_type": "markdown",
      "source": [
        "Теперь отделим людей, которых еще нужно записать на курсы:"
      ],
      "metadata": {
        "id": "hyOf0shj0WX_"
      }
    },
    {
      "cell_type": "code",
      "source": [
        "first_course = second_wall.loc[(second_wall['course_1'] == '???')  & (second_wall['course_2'] == '-')].drop(['level_1', 'free_size', 'is_first_place', 'is_last_place'], axis=1)\n",
        "second_course = second_wall.loc[(second_wall['course_2'] == '???') | (second_wall['course_1'] == '???')  & (second_wall['course_number'] == 2)].drop(['level_1', 'free_size', 'is_first_place', 'is_last_place', 'fall_2'], axis=1).merge(data[['id', 'fall_3']], how='left')\n",
        "df = pd.concat([first_course , second_course ], ignore_index= True)\n",
        "df1 = pd.melt(df, id_vars='id', value_vars=['fall_2', 'fall_3'], value_name='courses').merge(df[['id', 'percentile', 'course_number']], how='left')\n",
        "# df2 = df1.groupby(\"courses\").apply(lambda x: x.sort_values([\"percentile\"], ascending = True)).reset_index()\n",
        "df1 = df1.sort_values(by=['percentile'])\n",
        "df1.dtypes"
      ],
      "metadata": {
        "colab": {
          "base_uri": "https://localhost:8080/"
        },
        "id": "1qHVFsh_0ajt",
        "outputId": "26c04f6d-b396-47fb-edce-932b550dd17c"
      },
      "execution_count": 547,
      "outputs": [
        {
          "output_type": "execute_result",
          "data": {
            "text/plain": [
              "id                object\n",
              "variable          object\n",
              "courses           object\n",
              "percentile       float64\n",
              "course_number      int64\n",
              "dtype: object"
            ]
          },
          "metadata": {},
          "execution_count": 547
        }
      ]
    },
    {
      "cell_type": "code",
      "source": [
        "sum = 0\n",
        "sum_p = 0\n",
        "sum_r = 0\n",
        "for id, a in df1.iterrows():\n",
        "  sum_p += 1\n",
        "  if (a.courses != a.courses):\n",
        "    continue\n",
        "  sum_r += 1\n",
        "\n",
        "  size = sizes.loc[(sizes['course_1'] == a.courses), 'free_size']\n",
        "  size_1 = sizes[(sizes['course_1'] == a.courses)]['free_size']\n",
        "  if size_1.iloc[0] > 0:\n",
        "    sizes.loc[(sizes['course_1'] == a.courses), 'free_size'] -= 1\n",
        "    sum += 1\n",
        "\n",
        "    if a.course_number == 1:\n",
        "      df.loc[df['id'] == a.id, 'course_1'] = a.courses\n",
        "      res.loc[res['id'] == a.id, 'course_1'] = a.courses\n",
        "\n",
        "    else:\n",
        "      if (df.loc[df['id'] == a.id, 'course_1'] == '???').bool():\n",
        "        df.loc[df['id'] == a.id, 'course_1'] = a.courses\n",
        "        res.loc[res['id'] == a.id, 'course_1'] = a.courses\n",
        "      else:\n",
        "        df.loc[df['id'] == a.id, 'course_2'] = a.courses\n",
        "        res.loc[res['id'] == a.id, 'course_1'] = a.courses"
      ],
      "metadata": {
        "id": "eiOm-ty90WHc"
      },
      "execution_count": 548,
      "outputs": []
    },
    {
      "cell_type": "markdown",
      "source": [
        "Оставшиеся места перед 3 волной"
      ],
      "metadata": {
        "id": "ogOgGXodr_t7"
      }
    },
    {
      "cell_type": "code",
      "source": [
        "sizes"
      ],
      "metadata": {
        "colab": {
          "base_uri": "https://localhost:8080/",
          "height": 425
        },
        "id": "Ikbb7ByYXLr8",
        "outputId": "f21b6b44-3577-447a-ef05-9f5a09705027"
      },
      "execution_count": 549,
      "outputs": [
        {
          "output_type": "execute_result",
          "data": {
            "text/plain": [
              "                                             course_1  free_size\n",
              "1                         Statistical Learning Theory         19\n",
              "2                   Анализ неструктурированных данных        297\n",
              "3               Байесовские методы машинного обучения          5\n",
              "4                    Безопасность компьютерных систем          0\n",
              "5                   Высокопроизводительные вычисления          0\n",
              "6                Глубинное обучение в обработке звука          0\n",
              "7                                Матричные вычисления          6\n",
              "8                       Моделирование временных рядов          0\n",
              "9   Принятие решений в условиях риска и неопределё...         21\n",
              "10    Сбор и обработка данных с помощью краудсорсинга          0\n",
              "11                                  Теория баз данных         12\n",
              "12                                           Язык SQL          0"
            ],
            "text/html": [
              "\n",
              "  <div id=\"df-2ea54936-4c51-429a-bb73-0dfb0c93ac83\" class=\"colab-df-container\">\n",
              "    <div>\n",
              "<style scoped>\n",
              "    .dataframe tbody tr th:only-of-type {\n",
              "        vertical-align: middle;\n",
              "    }\n",
              "\n",
              "    .dataframe tbody tr th {\n",
              "        vertical-align: top;\n",
              "    }\n",
              "\n",
              "    .dataframe thead th {\n",
              "        text-align: right;\n",
              "    }\n",
              "</style>\n",
              "<table border=\"1\" class=\"dataframe\">\n",
              "  <thead>\n",
              "    <tr style=\"text-align: right;\">\n",
              "      <th></th>\n",
              "      <th>course_1</th>\n",
              "      <th>free_size</th>\n",
              "    </tr>\n",
              "  </thead>\n",
              "  <tbody>\n",
              "    <tr>\n",
              "      <th>1</th>\n",
              "      <td>Statistical Learning Theory</td>\n",
              "      <td>19</td>\n",
              "    </tr>\n",
              "    <tr>\n",
              "      <th>2</th>\n",
              "      <td>Анализ неструктурированных данных</td>\n",
              "      <td>297</td>\n",
              "    </tr>\n",
              "    <tr>\n",
              "      <th>3</th>\n",
              "      <td>Байесовские методы машинного обучения</td>\n",
              "      <td>5</td>\n",
              "    </tr>\n",
              "    <tr>\n",
              "      <th>4</th>\n",
              "      <td>Безопасность компьютерных систем</td>\n",
              "      <td>0</td>\n",
              "    </tr>\n",
              "    <tr>\n",
              "      <th>5</th>\n",
              "      <td>Высокопроизводительные вычисления</td>\n",
              "      <td>0</td>\n",
              "    </tr>\n",
              "    <tr>\n",
              "      <th>6</th>\n",
              "      <td>Глубинное обучение в обработке звука</td>\n",
              "      <td>0</td>\n",
              "    </tr>\n",
              "    <tr>\n",
              "      <th>7</th>\n",
              "      <td>Матричные вычисления</td>\n",
              "      <td>6</td>\n",
              "    </tr>\n",
              "    <tr>\n",
              "      <th>8</th>\n",
              "      <td>Моделирование временных рядов</td>\n",
              "      <td>0</td>\n",
              "    </tr>\n",
              "    <tr>\n",
              "      <th>9</th>\n",
              "      <td>Принятие решений в условиях риска и неопределё...</td>\n",
              "      <td>21</td>\n",
              "    </tr>\n",
              "    <tr>\n",
              "      <th>10</th>\n",
              "      <td>Сбор и обработка данных с помощью краудсорсинга</td>\n",
              "      <td>0</td>\n",
              "    </tr>\n",
              "    <tr>\n",
              "      <th>11</th>\n",
              "      <td>Теория баз данных</td>\n",
              "      <td>12</td>\n",
              "    </tr>\n",
              "    <tr>\n",
              "      <th>12</th>\n",
              "      <td>Язык SQL</td>\n",
              "      <td>0</td>\n",
              "    </tr>\n",
              "  </tbody>\n",
              "</table>\n",
              "</div>\n",
              "    <div class=\"colab-df-buttons\">\n",
              "\n",
              "  <div class=\"colab-df-container\">\n",
              "    <button class=\"colab-df-convert\" onclick=\"convertToInteractive('df-2ea54936-4c51-429a-bb73-0dfb0c93ac83')\"\n",
              "            title=\"Convert this dataframe to an interactive table.\"\n",
              "            style=\"display:none;\">\n",
              "\n",
              "  <svg xmlns=\"http://www.w3.org/2000/svg\" height=\"24px\" viewBox=\"0 -960 960 960\">\n",
              "    <path d=\"M120-120v-720h720v720H120Zm60-500h600v-160H180v160Zm220 220h160v-160H400v160Zm0 220h160v-160H400v160ZM180-400h160v-160H180v160Zm440 0h160v-160H620v160ZM180-180h160v-160H180v160Zm440 0h160v-160H620v160Z\"/>\n",
              "  </svg>\n",
              "    </button>\n",
              "\n",
              "  <style>\n",
              "    .colab-df-container {\n",
              "      display:flex;\n",
              "      gap: 12px;\n",
              "    }\n",
              "\n",
              "    .colab-df-convert {\n",
              "      background-color: #E8F0FE;\n",
              "      border: none;\n",
              "      border-radius: 50%;\n",
              "      cursor: pointer;\n",
              "      display: none;\n",
              "      fill: #1967D2;\n",
              "      height: 32px;\n",
              "      padding: 0 0 0 0;\n",
              "      width: 32px;\n",
              "    }\n",
              "\n",
              "    .colab-df-convert:hover {\n",
              "      background-color: #E2EBFA;\n",
              "      box-shadow: 0px 1px 2px rgba(60, 64, 67, 0.3), 0px 1px 3px 1px rgba(60, 64, 67, 0.15);\n",
              "      fill: #174EA6;\n",
              "    }\n",
              "\n",
              "    .colab-df-buttons div {\n",
              "      margin-bottom: 4px;\n",
              "    }\n",
              "\n",
              "    [theme=dark] .colab-df-convert {\n",
              "      background-color: #3B4455;\n",
              "      fill: #D2E3FC;\n",
              "    }\n",
              "\n",
              "    [theme=dark] .colab-df-convert:hover {\n",
              "      background-color: #434B5C;\n",
              "      box-shadow: 0px 1px 3px 1px rgba(0, 0, 0, 0.15);\n",
              "      filter: drop-shadow(0px 1px 2px rgba(0, 0, 0, 0.3));\n",
              "      fill: #FFFFFF;\n",
              "    }\n",
              "  </style>\n",
              "\n",
              "    <script>\n",
              "      const buttonEl =\n",
              "        document.querySelector('#df-2ea54936-4c51-429a-bb73-0dfb0c93ac83 button.colab-df-convert');\n",
              "      buttonEl.style.display =\n",
              "        google.colab.kernel.accessAllowed ? 'block' : 'none';\n",
              "\n",
              "      async function convertToInteractive(key) {\n",
              "        const element = document.querySelector('#df-2ea54936-4c51-429a-bb73-0dfb0c93ac83');\n",
              "        const dataTable =\n",
              "          await google.colab.kernel.invokeFunction('convertToInteractive',\n",
              "                                                    [key], {});\n",
              "        if (!dataTable) return;\n",
              "\n",
              "        const docLinkHtml = 'Like what you see? Visit the ' +\n",
              "          '<a target=\"_blank\" href=https://colab.research.google.com/notebooks/data_table.ipynb>data table notebook</a>'\n",
              "          + ' to learn more about interactive tables.';\n",
              "        element.innerHTML = '';\n",
              "        dataTable['output_type'] = 'display_data';\n",
              "        await google.colab.output.renderOutput(dataTable, element);\n",
              "        const docLink = document.createElement('div');\n",
              "        docLink.innerHTML = docLinkHtml;\n",
              "        element.appendChild(docLink);\n",
              "      }\n",
              "    </script>\n",
              "  </div>\n",
              "\n",
              "\n",
              "<div id=\"df-0b7abd26-360c-41cc-8327-dccc5c157fd7\">\n",
              "  <button class=\"colab-df-quickchart\" onclick=\"quickchart('df-0b7abd26-360c-41cc-8327-dccc5c157fd7')\"\n",
              "            title=\"Suggest charts.\"\n",
              "            style=\"display:none;\">\n",
              "\n",
              "<svg xmlns=\"http://www.w3.org/2000/svg\" height=\"24px\"viewBox=\"0 0 24 24\"\n",
              "     width=\"24px\">\n",
              "    <g>\n",
              "        <path d=\"M19 3H5c-1.1 0-2 .9-2 2v14c0 1.1.9 2 2 2h14c1.1 0 2-.9 2-2V5c0-1.1-.9-2-2-2zM9 17H7v-7h2v7zm4 0h-2V7h2v10zm4 0h-2v-4h2v4z\"/>\n",
              "    </g>\n",
              "</svg>\n",
              "  </button>\n",
              "\n",
              "<style>\n",
              "  .colab-df-quickchart {\n",
              "      --bg-color: #E8F0FE;\n",
              "      --fill-color: #1967D2;\n",
              "      --hover-bg-color: #E2EBFA;\n",
              "      --hover-fill-color: #174EA6;\n",
              "      --disabled-fill-color: #AAA;\n",
              "      --disabled-bg-color: #DDD;\n",
              "  }\n",
              "\n",
              "  [theme=dark] .colab-df-quickchart {\n",
              "      --bg-color: #3B4455;\n",
              "      --fill-color: #D2E3FC;\n",
              "      --hover-bg-color: #434B5C;\n",
              "      --hover-fill-color: #FFFFFF;\n",
              "      --disabled-bg-color: #3B4455;\n",
              "      --disabled-fill-color: #666;\n",
              "  }\n",
              "\n",
              "  .colab-df-quickchart {\n",
              "    background-color: var(--bg-color);\n",
              "    border: none;\n",
              "    border-radius: 50%;\n",
              "    cursor: pointer;\n",
              "    display: none;\n",
              "    fill: var(--fill-color);\n",
              "    height: 32px;\n",
              "    padding: 0;\n",
              "    width: 32px;\n",
              "  }\n",
              "\n",
              "  .colab-df-quickchart:hover {\n",
              "    background-color: var(--hover-bg-color);\n",
              "    box-shadow: 0 1px 2px rgba(60, 64, 67, 0.3), 0 1px 3px 1px rgba(60, 64, 67, 0.15);\n",
              "    fill: var(--button-hover-fill-color);\n",
              "  }\n",
              "\n",
              "  .colab-df-quickchart-complete:disabled,\n",
              "  .colab-df-quickchart-complete:disabled:hover {\n",
              "    background-color: var(--disabled-bg-color);\n",
              "    fill: var(--disabled-fill-color);\n",
              "    box-shadow: none;\n",
              "  }\n",
              "\n",
              "  .colab-df-spinner {\n",
              "    border: 2px solid var(--fill-color);\n",
              "    border-color: transparent;\n",
              "    border-bottom-color: var(--fill-color);\n",
              "    animation:\n",
              "      spin 1s steps(1) infinite;\n",
              "  }\n",
              "\n",
              "  @keyframes spin {\n",
              "    0% {\n",
              "      border-color: transparent;\n",
              "      border-bottom-color: var(--fill-color);\n",
              "      border-left-color: var(--fill-color);\n",
              "    }\n",
              "    20% {\n",
              "      border-color: transparent;\n",
              "      border-left-color: var(--fill-color);\n",
              "      border-top-color: var(--fill-color);\n",
              "    }\n",
              "    30% {\n",
              "      border-color: transparent;\n",
              "      border-left-color: var(--fill-color);\n",
              "      border-top-color: var(--fill-color);\n",
              "      border-right-color: var(--fill-color);\n",
              "    }\n",
              "    40% {\n",
              "      border-color: transparent;\n",
              "      border-right-color: var(--fill-color);\n",
              "      border-top-color: var(--fill-color);\n",
              "    }\n",
              "    60% {\n",
              "      border-color: transparent;\n",
              "      border-right-color: var(--fill-color);\n",
              "    }\n",
              "    80% {\n",
              "      border-color: transparent;\n",
              "      border-right-color: var(--fill-color);\n",
              "      border-bottom-color: var(--fill-color);\n",
              "    }\n",
              "    90% {\n",
              "      border-color: transparent;\n",
              "      border-bottom-color: var(--fill-color);\n",
              "    }\n",
              "  }\n",
              "</style>\n",
              "\n",
              "  <script>\n",
              "    async function quickchart(key) {\n",
              "      const quickchartButtonEl =\n",
              "        document.querySelector('#' + key + ' button');\n",
              "      quickchartButtonEl.disabled = true;  // To prevent multiple clicks.\n",
              "      quickchartButtonEl.classList.add('colab-df-spinner');\n",
              "      try {\n",
              "        const charts = await google.colab.kernel.invokeFunction(\n",
              "            'suggestCharts', [key], {});\n",
              "      } catch (error) {\n",
              "        console.error('Error during call to suggestCharts:', error);\n",
              "      }\n",
              "      quickchartButtonEl.classList.remove('colab-df-spinner');\n",
              "      quickchartButtonEl.classList.add('colab-df-quickchart-complete');\n",
              "    }\n",
              "    (() => {\n",
              "      let quickchartButtonEl =\n",
              "        document.querySelector('#df-0b7abd26-360c-41cc-8327-dccc5c157fd7 button');\n",
              "      quickchartButtonEl.style.display =\n",
              "        google.colab.kernel.accessAllowed ? 'block' : 'none';\n",
              "    })();\n",
              "  </script>\n",
              "</div>\n",
              "    </div>\n",
              "  </div>\n"
            ]
          },
          "metadata": {},
          "execution_count": 549
        }
      ]
    },
    {
      "cell_type": "markdown",
      "source": [
        "Третья волна (только для челиксов с одним курсом)"
      ],
      "metadata": {
        "id": "9pfuH35DW-9Z"
      }
    },
    {
      "cell_type": "code",
      "execution_count": 550,
      "metadata": {
        "id": "jn2OOrLjhLu6"
      },
      "outputs": [],
      "source": [
        "third_wave = df.loc[(df['course_1'] == '???') & (df['course_2'] == '-')]\n",
        "third_wave = third_wave.drop(['fall_3', 'fall_2'], axis=1).merge(data[['id', 'fall_3']], how='left').sort_values(by=['percentile'])\n",
        "\n",
        "for id, a in third_wave.iterrows():\n",
        "  # print(a)\n",
        "\n",
        "  size = sizes[(sizes['course_1'] == a.fall_3)]['free_size']\n",
        "\n",
        "  # print(size)\n",
        "\n",
        "  if size.iloc[0] > 0:\n",
        "    sizes.loc[(sizes['course_1'] == a.fall_3), 'free_size'] -= 1\n",
        "    third_wave.loc[third_wave['id'] == a.id, 'course_1'] = a.fall_3\n",
        "    res.loc[res['id'] == a.id, 'course_1'] = a.fall_3"
      ]
    },
    {
      "cell_type": "code",
      "source": [
        "len(third_wave)\n"
      ],
      "metadata": {
        "colab": {
          "base_uri": "https://localhost:8080/"
        },
        "id": "K_V1tHn3fTqw",
        "outputId": "76eb9b42-55df-4fa9-8a2f-5641c4a8bdd3"
      },
      "execution_count": 551,
      "outputs": [
        {
          "output_type": "execute_result",
          "data": {
            "text/plain": [
              "43"
            ]
          },
          "metadata": {},
          "execution_count": 551
        }
      ]
    },
    {
      "cell_type": "code",
      "source": [
        "res.to_csv('solution.csv', index=None)"
      ],
      "metadata": {
        "id": "ufaGSPAFgSiW"
      },
      "execution_count": 552,
      "outputs": []
    },
    {
      "cell_type": "markdown",
      "source": [
        "Пыталась найти проблему, почему не заходитв контест, но сил не осталось. Хочу спать и чипсов."
      ],
      "metadata": {
        "id": "42Eaxu4ps13e"
      }
    },
    {
      "cell_type": "markdown",
      "metadata": {
        "id": "1xQjV9BuhLu6"
      },
      "source": [
        "**Отправьте свой файл res_fall.csv в контест (https://contest.yandex.ru/contest/52663/problems/A/) и прикрепите/укажите ниже ваш никнейм и ссылку на успешную посылку.**"
      ]
    },
    {
      "cell_type": "markdown",
      "metadata": {
        "id": "QRTbPrgbhLu6"
      },
      "source": [
        "*Дисклеймер:*\n",
        "\n",
        "Успешная посылка в контесте является **обязательным** условием получения полного балла за этот (и следующий) пункт. Если добиться успешной посылки не удастся, баллы будут выставляться на усмотрение проверяюшего.\n",
        "\n",
        "При этом ОК в контесте не гарантирует полный балл. Оценка всё равно может быть снижена в случае обнаружения неэффективностей или ошибок в коде. Если вы сдадите в AnyTask очевидно неработающий код или ноутбук без кода, но при этом в контест будет сдан корректный файл, то это будет расцениваться как плагиат."
      ]
    },
    {
      "cell_type": "markdown",
      "metadata": {
        "id": "1IkQa_gdhLu6"
      },
      "source": [
        "На всякий случай просим вас сдать вместе с ноутбуком файл res_fall.csv в anytask"
      ]
    },
    {
      "cell_type": "markdown",
      "metadata": {
        "id": "k8d711qGhLu7"
      },
      "source": [
        "**Дополнительное задание. [2 бонусных балла] Распределите таким же образом студентов еще и на весенние курсы по выбору.**\n",
        "\n",
        "Если ваш код был хорошо структурирован, то это не составит проблем.\n",
        "\n",
        "Если вы выполнили это задание, сдайте среди прочего файл res_spring.csv в таком же формате, как и res_fall.csv."
      ]
    },
    {
      "cell_type": "code",
      "execution_count": 553,
      "metadata": {
        "id": "hwmusOGThLu7"
      },
      "outputs": [],
      "source": [
        "# (￣^'￣)ゞ"
      ]
    },
    {
      "cell_type": "markdown",
      "metadata": {
        "id": "It7QQZLYhLu7"
      },
      "source": [
        "**Отправьте свой файл res_spring.csv в контест (https://contest.yandex.ru/contest/52663/problems/A) и прикрепите/укажите ниже ваш никнейм и ссылку на успешную посылку.**"
      ]
    },
    {
      "cell_type": "markdown",
      "metadata": {
        "id": "1YcouVTihLu7"
      },
      "source": [
        "На всякий случай просим вас сдать вместе с ноутбуком файл res_spring.csv в anytask"
      ]
    },
    {
      "cell_type": "markdown",
      "metadata": {
        "id": "uY_OY6inhLu7"
      },
      "source": [
        "Вставьте картинку, описывающую ваш опыт выполнения этого задания:"
      ]
    },
    {
      "cell_type": "markdown",
      "source": [],
      "metadata": {
        "id": "vaDbi54muxIB"
      }
    },
    {
      "cell_type": "markdown",
      "source": [
        "Муд после:"
      ],
      "metadata": {
        "id": "9RVS-SiSyf6D"
      }
    },
    {
      "cell_type": "markdown",
      "source": [
        "<img src=\"https://demotos.ru/sites/default/files/caricatures/2020-11-04-1604489187.jpg\" style=\"width: 400px\">"
      ],
      "metadata": {
        "id": "3zQuhwQ3yIpH"
      }
    }
  ],
  "metadata": {
    "colab": {
      "provenance": []
    },
    "kernelspec": {
      "display_name": "Python 3 (ipykernel)",
      "language": "python",
      "name": "python3"
    },
    "language_info": {
      "codemirror_mode": {
        "name": "ipython",
        "version": 3
      },
      "file_extension": ".py",
      "mimetype": "text/x-python",
      "name": "python",
      "nbconvert_exporter": "python",
      "pygments_lexer": "ipython3",
      "version": "3.10.4"
    },
    "varInspector": {
      "cols": {
        "lenName": 16,
        "lenType": 16,
        "lenVar": 40
      },
      "kernels_config": {
        "python": {
          "delete_cmd_postfix": "",
          "delete_cmd_prefix": "del ",
          "library": "var_list.py",
          "varRefreshCmd": "print(var_dic_list())"
        },
        "r": {
          "delete_cmd_postfix": ") ",
          "delete_cmd_prefix": "rm(",
          "library": "var_list.r",
          "varRefreshCmd": "cat(var_dic_list()) "
        }
      },
      "types_to_exclude": [
        "module",
        "function",
        "builtin_function_or_method",
        "instance",
        "_Feature"
      ],
      "window_display": false
    },
    "vscode": {
      "interpreter": {
        "hash": "e7370f93d1d0cde622a1f8e1c04877d8463912d04d973331ad4851f04de6915a"
      }
    }
  },
  "nbformat": 4,
  "nbformat_minor": 0
}
